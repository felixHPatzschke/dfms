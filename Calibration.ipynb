{
 "cells": [
  {
   "cell_type": "markdown",
   "id": "c51f70be",
   "metadata": {},
   "source": [
    "In order to map the pixel offset of the streak in the microscope image to the appropriate wavelengths, calibration measurements are conducted. For these, a $532\\,\\mathrm{nm}$ laser is focused on a coverslide, its reflection producing a spot. As in \"actual\" measurements, the diffraction grating in front of the camera sensor produces a no first-order image of the spot. As the wavelength is known and the first order isn't the streak we observe in \"actual\" measurements but a second spot. Due to the make of the diffraction grating used, this spot, in fact, appears much brigther than the zeroth order."
   ]
  },
  {
   "cell_type": "markdown",
   "id": "eeebbaf2",
   "metadata": {},
   "source": [
    "# Preparations"
   ]
  },
  {
   "cell_type": "code",
   "execution_count": null,
   "id": "0bf84e20",
   "metadata": {},
   "outputs": [],
   "source": [
    "import os"
   ]
  },
  {
   "cell_type": "code",
   "execution_count": null,
   "id": "4b304928",
   "metadata": {},
   "outputs": [],
   "source": [
    "import numpy as np\n",
    "pi = np.pi\n",
    "\n",
    "import matplotlib.pyplot as plt\n",
    "%matplotlib inline\n"
   ]
  },
  {
   "cell_type": "code",
   "execution_count": null,
   "id": "ab6020ba",
   "metadata": {},
   "outputs": [],
   "source": [
    "from util import tdms, calibration_persistent_data_path, plotstyle"
   ]
  },
  {
   "cell_type": "markdown",
   "id": "1b294e29",
   "metadata": {},
   "source": [
    "## Set Plot Style"
   ]
  },
  {
   "cell_type": "code",
   "execution_count": null,
   "id": "92b25058",
   "metadata": {},
   "outputs": [],
   "source": [
    "plotstyle.load('screen_dark')"
   ]
  },
  {
   "cell_type": "markdown",
   "id": "37060e69",
   "metadata": {},
   "source": [
    "## Input Data"
   ]
  },
  {
   "cell_type": "code",
   "execution_count": null,
   "id": "df213289",
   "metadata": {},
   "outputs": [],
   "source": [
    "#tdms_directories = [ \"data/calibration/21-08-30/\", \"data/calibration/21-09-09/\" ]\n",
    "tdms_directories = [ \"../../TDMS/211012/calibration/\" ]\n",
    "\n",
    "tdms_files = [ \"{p}/{f}\".format( p=path, f=file ) for path in tdms_directories for file in os.listdir( path ) ]\n",
    "\n",
    "tdms_descriptors = tdms.files_to_descriptors(tdms_files)"
   ]
  },
  {
   "cell_type": "code",
   "execution_count": null,
   "id": "bd11c4dc",
   "metadata": {},
   "outputs": [],
   "source": [
    "videos = [ tdms.Video().load( d ) for d in tdms_descriptors ]"
   ]
  },
  {
   "cell_type": "markdown",
   "id": "f45733fd",
   "metadata": {},
   "source": [
    "# Plot the Cumulative Video Data"
   ]
  },
  {
   "cell_type": "code",
   "execution_count": null,
   "id": "bc12c9f4",
   "metadata": {},
   "outputs": [],
   "source": [
    "import math\n",
    "\n",
    "plot_cols = int(math.ceil(math.sqrt(float(len(videos)))))\n",
    "plot_rows = int(math.ceil( len(videos)/plot_cols ))\n",
    "\n",
    "print( \"{c}x{r}\".format(c=plot_cols, r=plot_rows) )"
   ]
  },
  {
   "cell_type": "code",
   "execution_count": null,
   "id": "f6e546c0",
   "metadata": {},
   "outputs": [],
   "source": [
    "videos[0].data.shape"
   ]
  },
  {
   "cell_type": "code",
   "execution_count": null,
   "id": "ec54bd3b",
   "metadata": {},
   "outputs": [],
   "source": [
    "fig = plt.figure(figsize=(12,12*plot_rows/plot_cols), dpi=100)\n",
    "\n",
    "axs = fig.add_gridspec(plot_rows, plot_cols)\n",
    "\n",
    "for i in range(len(videos)):\n",
    "    ax = fig.add_subplot(axs[ i//plot_cols , i%plot_cols ])\n",
    "    ax.imshow(np.log( np.mean( videos[i].data, axis=0 ) ), \n",
    "              cmap=plotstyle.cmap('a'))\n",
    "    ax.set_xlabel('x [px]')\n",
    "    ax.set_ylabel('y [px]')\n",
    "\n",
    "plt.tight_layout()\n",
    "plt.show()"
   ]
  },
  {
   "cell_type": "markdown",
   "id": "e4c2bddf",
   "metadata": {},
   "source": [
    "The spots are way easier to see in a logarithmic scale."
   ]
  },
  {
   "cell_type": "markdown",
   "id": "4580f7bb",
   "metadata": {},
   "source": [
    "# Fitting\n",
    "In the image, there should be two roughly Gaussian spots as well as some background intensity. The procedure is as follows:\n",
    " * find the position of the brightest spot. This will be the first order.\n",
    " * around this position, replace the data with the background intensity. Simply subtracting the fit Gaussian, won't work. as the residual might still be much brighter than the zeroth order spot will be. We know that the distance between these spots is in the hundreds of pixels, so as long as the area in which we obliterate our signal smaller than that, we should be fine.\n",
    " * find the next-brightest spot. That'll be the zeroth order.\n",
    " * compute distance and angle. The angle shoulkd corresponds to how far the diffraction grating was screwed into the camera's front plate and should hence correspond to the distance of the grating from the sensor. The relationship between the distance and the angle should be linear.\n",
    " * manually adjust the angle for any full rotations."
   ]
  },
  {
   "cell_type": "code",
   "execution_count": null,
   "id": "84b03365",
   "metadata": {},
   "outputs": [],
   "source": [
    "from scipy.optimize import curve_fit"
   ]
  },
  {
   "cell_type": "markdown",
   "id": "edd656f9",
   "metadata": {},
   "source": [
    "## Define a Fitting Function"
   ]
  },
  {
   "cell_type": "code",
   "execution_count": null,
   "id": "5ffdfe36",
   "metadata": {},
   "outputs": [],
   "source": [
    "def gaussian( x, y, a, x0, y0, sigma, offset ):\n",
    "    res = offset + a*np.exp( -0.5 * ( ((x-x0)**2 + (y-y0)**2))/(sigma**2) )\n",
    "    return res.ravel()"
   ]
  },
  {
   "cell_type": "code",
   "execution_count": null,
   "id": "c63400a0",
   "metadata": {},
   "outputs": [],
   "source": [
    "def _gaussian(M, *args):\n",
    "    x, y = M\n",
    "    arr = np.zeros(x.shape)\n",
    "    for i in range(len(args)//5):\n",
    "        arr += gaussian(x,y, *args[i*5:i*5+5])\n",
    "    return arr"
   ]
  },
  {
   "cell_type": "markdown",
   "id": "5dcbdf70",
   "metadata": {},
   "source": [
    "## Initial Definitions"
   ]
  },
  {
   "cell_type": "code",
   "execution_count": null,
   "id": "9cae1f38",
   "metadata": {},
   "outputs": [],
   "source": [
    "# number of spots to try and find\n",
    "N = 2"
   ]
  },
  {
   "cell_type": "code",
   "execution_count": null,
   "id": "c36087fc",
   "metadata": {},
   "outputs": [],
   "source": [
    "spot_params = np.zeros( (len(videos), N, 5) )"
   ]
  },
  {
   "cell_type": "markdown",
   "id": "c7be508d",
   "metadata": {},
   "source": [
    "## Perform The Fits"
   ]
  },
  {
   "cell_type": "code",
   "execution_count": null,
   "id": "8edad938",
   "metadata": {},
   "outputs": [],
   "source": [
    "for VIDEO, INDEX in zip(videos,range(len(videos))):\n",
    "    x, y = np.linspace(0, VIDEO.width-1, VIDEO.width), np.linspace(0, VIDEO.height-1, VIDEO.height)\n",
    "    X, Y = np.meshgrid(x, y)\n",
    "\n",
    "    Z = np.mean( VIDEO.data, axis=0)\n",
    "\n",
    "    #spot_params = np.zeros( (N,5) )\n",
    "\n",
    "    for k in range(N):\n",
    "        guess_background = np.mean( Z )\n",
    "        guess_amp = np.max( Z ) - guess_background\n",
    "        argmax = np.argmax( Z )\n",
    "        guess_x0 = argmax % VIDEO.height\n",
    "        guess_y0 = argmax // VIDEO.height\n",
    "        guess_sigma = 5.0\n",
    "        # A list of parameters for the Gaussian: a, x0, y0, sigma, offset\n",
    "        guess_params = [ ( guess_amp , guess_x0, guess_y0, guess_sigma, guess_background ) ]\n",
    "\n",
    "        p0 = [ p for prms in guess_params for p in prms ]\n",
    "\n",
    "        # We need to ravel the meshgrids of X, Y points to a pair of 1-D arrays.\n",
    "        xdata = np.vstack((X.ravel(), Y.ravel()))\n",
    "        # Do the fit, using our custom _gaussian function which understands our\n",
    "        # flattened (ravelled) ordering of the data points.\n",
    "        popt, pcov = curve_fit(_gaussian, xdata, Z.ravel(), p0)\n",
    "        fit = np.zeros(Z.shape)\n",
    "        #for i in range(len(popt)//5):\n",
    "        fit += gaussian(X, Y, *popt).reshape(fit.shape)\n",
    "\n",
    "        spot_params[INDEX,k] = popt\n",
    "\n",
    "        zfilter = gaussian(X, Y, 1.0, popt[1], popt[2], 10*popt[3], 0.0).reshape(fit.shape)\n",
    "        Z *= 1-zfilter\n",
    "        Z += zfilter*popt[4]"
   ]
  },
  {
   "cell_type": "code",
   "execution_count": null,
   "id": "aed93aeb",
   "metadata": {},
   "outputs": [],
   "source": [
    "#spot_params"
   ]
  },
  {
   "cell_type": "code",
   "execution_count": null,
   "id": "bd76a91f",
   "metadata": {},
   "outputs": [],
   "source": [
    "displacements = spot_params[:,0,1:3]-spot_params[:,1,1:3]"
   ]
  },
  {
   "cell_type": "markdown",
   "id": "a2d491ef",
   "metadata": {},
   "source": [
    "## Plot the Results"
   ]
  },
  {
   "cell_type": "code",
   "execution_count": null,
   "id": "d0f9a6b0",
   "metadata": {},
   "outputs": [],
   "source": [
    "fig = plt.figure(figsize=(12,12*plot_rows/plot_cols), dpi=100)\n",
    "\n",
    "axs = fig.add_gridspec(plot_rows, plot_cols)\n",
    "\n",
    "for i in range(len(videos)):\n",
    "    ax = fig.add_subplot(axs[ i//plot_cols , i%plot_cols ])\n",
    "    ax.imshow(np.log( np.mean( videos[i].data, axis=0 ) ), \n",
    "              cmap=plotstyle.cmap('m'))\n",
    "    \n",
    "    ax.arrow( spot_params[i,1,1], spot_params[i,1,2], \n",
    "              displacements[i,0], displacements[i,1],\n",
    "              length_includes_head=True, color=plotstyle.monochrome_fg(), head_width=15, ls=':')\n",
    "    \n",
    "    ax.set_xlabel('x [px]')\n",
    "    ax.set_ylabel('y [px]')\n",
    "\n",
    "    \n",
    "    \n",
    "plt.tight_layout()\n",
    "plt.show()"
   ]
  },
  {
   "cell_type": "markdown",
   "id": "011010ea",
   "metadata": {},
   "source": [
    "# Compute Angles and Distances"
   ]
  },
  {
   "cell_type": "code",
   "execution_count": null,
   "id": "112f9097",
   "metadata": {},
   "outputs": [],
   "source": [
    "distances = np.sqrt( np.square(displacements[:,0]) + np.square(displacements[:,1]) )\n",
    "angles = np.arctan2( displacements[:,0], displacements[:,1] )/pi*180.0-90.0"
   ]
  },
  {
   "cell_type": "markdown",
   "id": "ac4da4ee",
   "metadata": {},
   "source": [
    "## Correct Distances for Binning"
   ]
  },
  {
   "cell_type": "code",
   "execution_count": null,
   "id": "f1be44f4",
   "metadata": {},
   "outputs": [],
   "source": [
    "for i in range(len(videos)):\n",
    "    distances[i] *= videos[i].binning"
   ]
  },
  {
   "cell_type": "markdown",
   "id": "89995ace",
   "metadata": {},
   "source": [
    "# Correct for possible Full Rotations\n",
    "\n",
    "## Plot"
   ]
  },
  {
   "cell_type": "code",
   "execution_count": null,
   "id": "fa5c2ee9",
   "metadata": {},
   "outputs": [],
   "source": [
    "fig = plt.figure(figsize=(12,8), dpi=100)\n",
    "\n",
    "axs = fig.add_gridspec(1, 1)\n",
    "\n",
    "ax = fig.add_subplot(axs[ 0 , 0 ])\n",
    "\n",
    "for a,d,n in zip(angles, distances, range(len(angles))):\n",
    "    ax.scatter( a, d, s=64, c=plotstyle.monochrome_fg(), marker=\"$N$\".replace(\"N\", \"{N}\".format(N=n) ) )\n",
    "\n",
    "ax.set_xlabel('angle [°]')\n",
    "ax.set_ylabel('displacement [px]')\n",
    "ax.set_title(\"Displacement of a Spot vs. Computed Screw-in Angle of the Diffraction Grating\\n$\\lambda = 532\\,\\mathrm{nm}$\")\n",
    "\n",
    "ax.grid()\n",
    "\n",
    "plt.tight_layout()\n",
    "plt.show()"
   ]
  },
  {
   "cell_type": "markdown",
   "id": "1e53bff1",
   "metadata": {},
   "source": [
    "## Manual Adjustment"
   ]
  },
  {
   "cell_type": "code",
   "execution_count": null,
   "id": "4a0453e8",
   "metadata": {},
   "outputs": [],
   "source": [
    "full_rotations = np.zeros( len(angles) )\n",
    "\n",
    "#full_rotations += 1 \n",
    "#for i in [ 5, 4, 2, 3, 15 ]:\n",
    "#    full_rotations[i] -= 1"
   ]
  },
  {
   "cell_type": "code",
   "execution_count": null,
   "id": "ab3d0024",
   "metadata": {},
   "outputs": [],
   "source": [
    "adjusted_angles = angles + full_rotations*360.0"
   ]
  },
  {
   "cell_type": "markdown",
   "id": "6207118d",
   "metadata": {},
   "source": [
    "## Plot Again"
   ]
  },
  {
   "cell_type": "code",
   "execution_count": null,
   "id": "d05c2b85",
   "metadata": {},
   "outputs": [],
   "source": [
    "fig = plt.figure(figsize=(12,8), dpi=100)\n",
    "\n",
    "axs = fig.add_gridspec(1, 1)\n",
    "\n",
    "ax = fig.add_subplot(axs[ 0 , 0 ])\n",
    "\n",
    "for a,d,n in zip(adjusted_angles, distances, range(len(angles))):\n",
    "    ax.scatter( a, d, c=plotstyle.monochrome_fg(), marker=\"$N$\".replace(\"N\", \"{N}\".format(N=n) ) )\n",
    "\n",
    "ax.set_xlabel('angle [°]')\n",
    "ax.set_ylabel('displacement [px]')\n",
    "ax.set_title(\"Displacement of a Spot vs. Adjusted Screw-in Angle of the Diffraction Grating\\n$\\lambda = 532\\,\\mathrm{nm}$\")\n",
    "\n",
    "ax.grid()\n",
    "\n",
    "plt.tight_layout()\n",
    "plt.show()"
   ]
  },
  {
   "cell_type": "markdown",
   "id": "f5fb700e",
   "metadata": {},
   "source": [
    "# Linear Fit"
   ]
  },
  {
   "cell_type": "code",
   "execution_count": null,
   "id": "5ab19cdf",
   "metadata": {},
   "outputs": [],
   "source": [
    "linear_model=np.polyfit(adjusted_angles,distances,1)\n",
    "linear_model_fn=np.poly1d(linear_model)"
   ]
  },
  {
   "cell_type": "markdown",
   "id": "a5266f93",
   "metadata": {},
   "source": [
    "## Error Estimation"
   ]
  },
  {
   "cell_type": "code",
   "execution_count": null,
   "id": "df6b5f6a",
   "metadata": {},
   "outputs": [],
   "source": [
    "stddev = math.sqrt( np.mean( np.square( distances-linear_model_fn(adjusted_angles) ) ) )"
   ]
  },
  {
   "cell_type": "markdown",
   "id": "3876d552",
   "metadata": {},
   "source": [
    "## Plot"
   ]
  },
  {
   "cell_type": "code",
   "execution_count": null,
   "id": "a0c5877d",
   "metadata": {},
   "outputs": [],
   "source": [
    "fig = plt.figure(figsize=(8,8), dpi=100)\n",
    "#fig.patch.set_facecolor('white')\n",
    "\n",
    "x_range = [ np.min(adjusted_angles)-15 , np.max(adjusted_angles)+15 ]\n",
    "\n",
    "axs = fig.add_gridspec(1, 1)\n",
    "\n",
    "ax = fig.add_subplot(axs[ 0 , 0 ])\n",
    "\n",
    "#ax.plot( angles, distances, c='w', ls=':' )\n",
    "ax.fill_between( x_range, \n",
    "                 linear_model_fn(x_range)+stddev, \n",
    "                 linear_model_fn(x_range)-stddev, \n",
    "                 alpha=plotstyle.err_alpha(), color=plotstyle.monochrome_fg() )\n",
    "ax.plot( x_range, linear_model_fn(x_range), c=plotstyle.monochrome_fg(), ls=':' )\n",
    "ax.scatter( adjusted_angles, distances, c=plotstyle.monochrome_fg() )\n",
    "\n",
    "ax.set_xlabel('angle [°]')\n",
    "ax.set_ylabel('displacement [px]')\n",
    "ax.set_title(\"Displacement of a Spot vs. Screw-in Angle of the Diffraction Grating\\n$\\lambda = 532\\,\\mathrm{nm}$\")\n",
    "\n",
    "ax.set_xticks( np.arange( -180, 270, 60 ) )\n",
    "ax.set_xlim( x_range )\n",
    "\n",
    "ax.grid()\n",
    "\n",
    "plt.tight_layout()\n",
    "plt.show()"
   ]
  },
  {
   "cell_type": "markdown",
   "id": "dfea9dc6",
   "metadata": {},
   "source": [
    "# Export"
   ]
  },
  {
   "cell_type": "code",
   "execution_count": null,
   "id": "99f27e9d",
   "metadata": {},
   "outputs": [],
   "source": [
    "b = linear_model_fn(0)\n",
    "a = linear_model_fn(1) - b"
   ]
  },
  {
   "cell_type": "code",
   "execution_count": null,
   "id": "f3eb62a6",
   "metadata": {},
   "outputs": [],
   "source": [
    "calibration = { 'slope':a, 'intercept':b, 'error':stddev }\n",
    "calibration"
   ]
  },
  {
   "cell_type": "code",
   "execution_count": null,
   "id": "86376bf5",
   "metadata": {},
   "outputs": [],
   "source": [
    "import pickle"
   ]
  },
  {
   "cell_type": "code",
   "execution_count": null,
   "id": "07aced6a",
   "metadata": {},
   "outputs": [],
   "source": [
    "filename = \"{d}/calibration.pickle\".format( d=calibration_persistent_data_path )\n",
    "exportfile = open( filename, 'wb' )\n",
    "exportfile.write( pickle.dumps( calibration ) )\n",
    "exportfile.close()"
   ]
  },
  {
   "cell_type": "code",
   "execution_count": null,
   "id": "acfc5016",
   "metadata": {},
   "outputs": [],
   "source": []
  }
 ],
 "metadata": {
  "kernelspec": {
   "display_name": "Python 3 (ipykernel)",
   "language": "python",
   "name": "python3"
  },
  "language_info": {
   "codemirror_mode": {
    "name": "ipython",
    "version": 3
   },
   "file_extension": ".py",
   "mimetype": "text/x-python",
   "name": "python",
   "nbconvert_exporter": "python",
   "pygments_lexer": "ipython3",
   "version": "3.9.7"
  }
 },
 "nbformat": 4,
 "nbformat_minor": 5
}
