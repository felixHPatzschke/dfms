{
 "cells": [
  {
   "cell_type": "code",
   "execution_count": null,
   "id": "27d6cc4e",
   "metadata": {},
   "outputs": [],
   "source": [
    "import os"
   ]
  },
  {
   "cell_type": "code",
   "execution_count": null,
   "id": "f312a186",
   "metadata": {},
   "outputs": [],
   "source": [
    "import numpy as np\n",
    "pi = np.pi\n",
    "\n",
    "import matplotlib.pyplot as plt\n",
    "%matplotlib inline\n",
    "plt.rcParams[\"font.family\"] = \"serif\"\n"
   ]
  },
  {
   "cell_type": "code",
   "execution_count": null,
   "id": "d4a8e894",
   "metadata": {},
   "outputs": [],
   "source": [
    "import util\n",
    "from util import plotstyle"
   ]
  },
  {
   "cell_type": "code",
   "execution_count": null,
   "id": "32a13a2e",
   "metadata": {},
   "outputs": [],
   "source": [
    "plotstyle.load('screen_dark')"
   ]
  },
  {
   "cell_type": "code",
   "execution_count": null,
   "id": "02406c15",
   "metadata": {},
   "outputs": [],
   "source": [
    "devs = util.devices.load_all()"
   ]
  },
  {
   "cell_type": "code",
   "execution_count": null,
   "id": "3460a589",
   "metadata": {},
   "outputs": [],
   "source": [
    "for dev_id in devs:\n",
    "    print(devs[dev_id].descr_str())"
   ]
  },
  {
   "cell_type": "code",
   "execution_count": null,
   "id": "10f6bfab",
   "metadata": {},
   "outputs": [],
   "source": [
    "fig = plt.figure(figsize=(12,8), dpi=100)\n",
    "#fig.patch.set_facecolor('white')\n",
    "\n",
    "axs = fig.add_gridspec(1, 1)\n",
    "\n",
    "ax = fig.add_subplot(axs[0, 0])\n",
    "\n",
    "for dev_id in devs:\n",
    "    dev = devs[dev_id]\n",
    "    TEST_LDA = np.linspace( np.maximum(dev.ldamin, 350), \n",
    "                            np.minimum(dev.ldamax, 800), \n",
    "                            400 )\n",
    "    dev_eval = dev.evaluate(TEST_LDA)\n",
    "    ax.fill_between( TEST_LDA, dev_eval[0]-dev_eval[1], dev_eval[0]+dev_eval[1], alpha=plotstyle.err_alpha(), )#color=line[1] )\n",
    "    ax.plot( TEST_LDA, dev_eval[0], lw=2, label=dev.descr_str() )#color=line[1] )\n",
    "    \n",
    "ax.set_title(\"Characteristic Spectra of the Optical Components\")\n",
    "ax.set_xlabel('$\\lambda$ [nm]')\n",
    "ax.set_ylabel('Relative Efficiency')\n",
    "\n",
    "ax.legend()\n",
    "\n",
    "ax.grid(color='lightgrey', linestyle=':')\n",
    "\n",
    "plt.tight_layout()\n",
    "plt.show()\n"
   ]
  },
  {
   "cell_type": "code",
   "execution_count": null,
   "id": "b169d849",
   "metadata": {},
   "outputs": [],
   "source": []
  }
 ],
 "metadata": {
  "kernelspec": {
   "display_name": "Python 3 (ipykernel)",
   "language": "python",
   "name": "python3"
  },
  "language_info": {
   "codemirror_mode": {
    "name": "ipython",
    "version": 3
   },
   "file_extension": ".py",
   "mimetype": "text/x-python",
   "name": "python",
   "nbconvert_exporter": "python",
   "pygments_lexer": "ipython3",
   "version": "3.9.6"
  }
 },
 "nbformat": 4,
 "nbformat_minor": 5
}
