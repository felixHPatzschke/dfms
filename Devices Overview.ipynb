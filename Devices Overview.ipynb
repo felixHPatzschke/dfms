{
 "cells": [
  {
   "cell_type": "code",
   "execution_count": null,
   "id": "27d6cc4e",
   "metadata": {},
   "outputs": [],
   "source": [
    "import os"
   ]
  },
  {
   "cell_type": "code",
   "execution_count": null,
   "id": "f312a186",
   "metadata": {},
   "outputs": [],
   "source": [
    "import numpy as np\n",
    "pi = np.pi\n",
    "\n",
    "import matplotlib.pyplot as plt\n",
    "%matplotlib inline\n",
    "plt.rcParams[\"font.family\"] = \"serif\"\n"
   ]
  },
  {
   "cell_type": "code",
   "execution_count": null,
   "id": "a745487d",
   "metadata": {},
   "outputs": [],
   "source": [
    "PLT_DEFAULT_COLOURS = plt.rcParams['axes.prop_cycle'].by_key()['color']\n",
    "PLT_ADJUSTED_COLOURS = [\n",
    "    'dodgerblue',\n",
    "    'orange',\n",
    "    'limegreen',\n",
    "    'orangered',\n",
    "    'orchid',\n",
    "    'sandybrown',\n",
    "    'violet',\n",
    "    'lightgrey',\n",
    "    'greenyellow',\n",
    "    'aqua',\n",
    "]\n",
    "PLT_TERMINAL_COLOURS_LIGHT = [\n",
    "    '#cc6666',\n",
    "    '#b5bd68',\n",
    "    '#81a2be',\n",
    "    '#f0c674',\n",
    "    '#b294bb',\n",
    "    '#8abeb7',\n",
    "    '#c5c8c6',\n",
    "]\n",
    "PLT_TERMINAL_COLOURS_NORMAL = [\n",
    "    '#a54242',\n",
    "    '#8c9440',\n",
    "    '#5f819d',\n",
    "    '#de935f',\n",
    "    '#85678f',\n",
    "    '#5e8d87',\n",
    "    '#707880',\n",
    "]\n",
    "\n",
    "plt.style.use('dark_background')\n",
    "\n",
    "from cycler import cycler\n",
    "\n",
    "default_cycler = ( cycler( color=PLT_TERMINAL_COLOURS_LIGHT ) )\n",
    "plt.rc('axes', prop_cycle=default_cycler)\n"
   ]
  },
  {
   "cell_type": "code",
   "execution_count": null,
   "id": "d4a8e894",
   "metadata": {},
   "outputs": [],
   "source": [
    "import util"
   ]
  },
  {
   "cell_type": "code",
   "execution_count": null,
   "id": "195a8a5a",
   "metadata": {},
   "outputs": [],
   "source": [
    "devs = util.devices.load_all()"
   ]
  },
  {
   "cell_type": "code",
   "execution_count": null,
   "id": "c52b2324",
   "metadata": {},
   "outputs": [],
   "source": [
    "for dev in devs:\n",
    "    print(dev.descr_str())"
   ]
  },
  {
   "cell_type": "code",
   "execution_count": null,
   "id": "10f6bfab",
   "metadata": {},
   "outputs": [],
   "source": [
    "fig = plt.figure(figsize=(12,8), dpi=100)\n",
    "#fig.patch.set_facecolor('white')\n",
    "\n",
    "axs = fig.add_gridspec(1, 1)\n",
    "\n",
    "ax = fig.add_subplot(axs[0, 0])\n",
    "\n",
    "for dev in devs:\n",
    "    TEST_LDA = np.linspace( np.maximum(dev.ldamin, 350), \n",
    "                            np.minimum(dev.ldamax, 800), \n",
    "                            400 )\n",
    "    dev_eval = dev.evaluate(TEST_LDA)\n",
    "    ax.fill_between( TEST_LDA, dev_eval[0]-dev_eval[1], dev_eval[0]+dev_eval[1], alpha=0.333, )#color=line[1] )\n",
    "    ax.plot( TEST_LDA, dev_eval[0], lw=2, label=dev.descr_str() )#color=line[1] )\n",
    "    \n",
    "ax.set_title(\"Emission Spectra of the Light Sources\")\n",
    "ax.set_xlabel('$\\lambda$ [nm]')\n",
    "ax.set_ylabel('')\n",
    "\n",
    "ax.legend()\n",
    "\n",
    "ax.grid(color='lightgrey', linestyle=':')\n",
    "\n",
    "plt.tight_layout()\n",
    "plt.show()\n"
   ]
  },
  {
   "cell_type": "code",
   "execution_count": null,
   "id": "29ead066",
   "metadata": {},
   "outputs": [],
   "source": []
  }
 ],
 "metadata": {
  "kernelspec": {
   "display_name": "Python 3 (ipykernel)",
   "language": "python",
   "name": "python3"
  },
  "language_info": {
   "codemirror_mode": {
    "name": "ipython",
    "version": 3
   },
   "file_extension": ".py",
   "mimetype": "text/x-python",
   "name": "python",
   "nbconvert_exporter": "python",
   "pygments_lexer": "ipython3",
   "version": "3.9.6"
  }
 },
 "nbformat": 4,
 "nbformat_minor": 5
}
