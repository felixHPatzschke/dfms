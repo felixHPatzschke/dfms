{
 "cells": [
  {
   "cell_type": "code",
   "execution_count": null,
   "id": "af335fd5",
   "metadata": {},
   "outputs": [],
   "source": [
    "#import skimage.io\n",
    "\n",
    "import numpy as np\n",
    "\n",
    "import matplotlib.pyplot as plt\n",
    "%matplotlib inline\n",
    "from matplotlib.colors import LogNorm\n",
    "\n",
    "import scipy.signal"
   ]
  },
  {
   "cell_type": "code",
   "execution_count": null,
   "id": "0c4bd253",
   "metadata": {},
   "outputs": [],
   "source": [
    "from util import plotstyle"
   ]
  },
  {
   "cell_type": "code",
   "execution_count": null,
   "id": "2a12c8dd",
   "metadata": {},
   "outputs": [],
   "source": [
    "plotstyle.load('screen_dark')\n",
    "#plotstyle.load('pretty_print')\n",
    "#plotstyle.load('print')"
   ]
  },
  {
   "cell_type": "code",
   "execution_count": null,
   "id": "afe0e168",
   "metadata": {},
   "outputs": [],
   "source": [
    "from util import bfp"
   ]
  },
  {
   "cell_type": "markdown",
   "id": "78d1b7bf",
   "metadata": {},
   "source": [
    "# Calibrate using a Calibration Dataset\n",
    "## Create Wrapper Object"
   ]
  },
  {
   "cell_type": "code",
   "execution_count": null,
   "id": "089809a6",
   "metadata": {},
   "outputs": [],
   "source": [
    "calibration_dataset = bfp.SliceDataset()"
   ]
  },
  {
   "cell_type": "markdown",
   "id": "cec08f92",
   "metadata": {},
   "source": [
    "## Load Image Data"
   ]
  },
  {
   "cell_type": "code",
   "execution_count": null,
   "id": "ff2f04ff",
   "metadata": {},
   "outputs": [],
   "source": [
    "calibration_dataset.load_image_data( bfp.TIFF_Stack().load_file(\"../../labdata/TIFF/211111/calibration_test_01.tif\") )"
   ]
  },
  {
   "cell_type": "code",
   "execution_count": null,
   "id": "9e2ed8fc",
   "metadata": {},
   "outputs": [],
   "source": [
    "fig = plt.figure(figsize=(10,5), dpi=100)\n",
    "\n",
    "axs = fig.add_gridspec(1, 1)\n",
    "\n",
    "ax = fig.add_subplot(axs[ 0 , 0 ])\n",
    "\n",
    "im = ax.imshow( np.clip( calibration_dataset.img_data_avg, 0.00003, 1), \n",
    "                norm=LogNorm(vmax=1), \n",
    "                cmap=plotstyle.cmap('a'))\n",
    "ax.set_xlabel('x [px]')\n",
    "ax.set_ylabel('y [px]')\n",
    "plt.colorbar(im, ax=ax)\n",
    "ax.set_title(\"Cumulative sCMOS Image\")\n",
    "\n",
    "plt.tight_layout()\n",
    "plt.show()"
   ]
  },
  {
   "cell_type": "markdown",
   "id": "eb8db16c",
   "metadata": {},
   "source": [
    "## Generate Mask"
   ]
  },
  {
   "cell_type": "code",
   "execution_count": null,
   "id": "19439e6f",
   "metadata": {},
   "outputs": [],
   "source": [
    "calibration_dataset.gen_mask()"
   ]
  },
  {
   "cell_type": "code",
   "execution_count": null,
   "id": "c9d3d584",
   "metadata": {},
   "outputs": [],
   "source": [
    "fig = plt.figure(figsize=(10,5), dpi=100)\n",
    "\n",
    "axs = fig.add_gridspec(1, 1)\n",
    "\n",
    "ax = fig.add_subplot(axs[ 0 , 0 ])\n",
    "\n",
    "im = ax.imshow( calibration_dataset.img_mask, cmap=plotstyle.cmap('bin'))\n",
    "ax.set_xlabel('x [px]')\n",
    "ax.set_ylabel('y [px]')\n",
    "plt.colorbar(im, ax=ax)\n",
    "ax.set_title(\"Mask\")\n",
    "\n",
    "plt.tight_layout()\n",
    "plt.show()"
   ]
  },
  {
   "cell_type": "markdown",
   "id": "ae7565b3",
   "metadata": {},
   "source": [
    "## Generate Regions of Interest from the Mask"
   ]
  },
  {
   "cell_type": "code",
   "execution_count": null,
   "id": "0d303d29",
   "metadata": {},
   "outputs": [],
   "source": [
    "calibration_dataset.gen_rois()"
   ]
  },
  {
   "cell_type": "code",
   "execution_count": null,
   "id": "3333c149",
   "metadata": {},
   "outputs": [],
   "source": [
    "[ roi.to_string() for roi in calibration_dataset.rois ]"
   ]
  },
  {
   "cell_type": "code",
   "execution_count": null,
   "id": "e48acd5c",
   "metadata": {},
   "outputs": [],
   "source": [
    "fig = plt.figure(figsize=(12,10), dpi=100)\n",
    "\n",
    "axs = fig.add_gridspec( 1, int(np.sum(np.array([ r.width() for r in calibration_dataset.rois ])))+len(calibration_dataset.rois) )\n",
    "\n",
    "for i in range(len(calibration_dataset.rois)):\n",
    "    ax = fig.add_subplot(\n",
    "        axs[ 0 , int(np.sum(np.array([ r.width() for r in calibration_dataset.rois[:i] ])))+i:int(np.sum(np.array([ r.width() for r in calibration_dataset.rois[:i+1] ])))+i ]\n",
    "    )\n",
    "    im = ax.imshow( \n",
    "        calibration_dataset.rois[i](calibration_dataset.img_data_avg), \n",
    "        cmap=plotstyle.cmap('a'), vmin=0, aspect='auto',\n",
    "        extent=calibration_dataset.rois[i].to_extent()\n",
    "    )\n",
    "    if i==0:\n",
    "        ax.set_ylabel('y [px]')\n",
    "    else:\n",
    "        ax.set(yticklabels=[])\n",
    "    if len(calibration_dataset.rois)//2 == i:\n",
    "        ax.set_xlabel('x [px]')\n",
    "    ax.set_title(\"ROI {i}\".format(i=i))\n",
    "\n",
    "#plt.tight_layout()\n",
    "plt.show()"
   ]
  },
  {
   "cell_type": "markdown",
   "id": "902844eb",
   "metadata": {},
   "source": [
    "## Compute the Calibration Constant"
   ]
  },
  {
   "cell_type": "code",
   "execution_count": null,
   "id": "c3507860",
   "metadata": {},
   "outputs": [],
   "source": [
    "calibration = calibration_dataset.get_calibration()"
   ]
  },
  {
   "cell_type": "code",
   "execution_count": null,
   "id": "ee8abcf1",
   "metadata": {},
   "outputs": [],
   "source": [
    "fig = plt.figure(figsize=(12,10), dpi=100)\n",
    "\n",
    "axs = fig.add_gridspec( 1, int(np.sum(np.array([ r.width() for r in calibration_dataset.rois ])))+len(calibration_dataset.rois) )\n",
    "\n",
    "for i in range(len(calibration_dataset.rois)):\n",
    "    ax = fig.add_subplot(\n",
    "        axs[ 0 , int(np.sum(np.array([ r.width() for r in calibration_dataset.rois[:i] ])))+i:int(np.sum(np.array([ r.width() for r in calibration_dataset.rois[:i+1] ])))+i ]\n",
    "    )\n",
    "    im = ax.imshow( \n",
    "        calibration_dataset.rois[i](calibration_dataset.img_data_avg), \n",
    "        cmap=plotstyle.cmap('a'), vmin=0, aspect='auto',\n",
    "        extent=calibration_dataset.rois[i].to_extent()\n",
    "    )\n",
    "    ax.fill_betweenx( \n",
    "        #np.arange(calibration_dataset.roi_mids.shape[1]),\n",
    "        calibration_dataset.rois[i].Y(),\n",
    "        #np.convolve( calibration_dataset.roi_mids[i]-calibration_dataset.roi_devs[i], np.array([1,1,1,1,1])/5, mode='same' )+calibration_dataset.rois[i].xmin, \n",
    "        #np.convolve( calibration_dataset.roi_mids[i]+calibration_dataset.roi_devs[i], np.array([1,1,1,1,1])/5, mode='same' )+calibration_dataset.rois[i].xmin, \n",
    "        calibration_dataset.roi_mids[i] - calibration_dataset.roi_devs[i] + calibration_dataset.rois[i].xmin, \n",
    "        calibration_dataset.roi_mids[i] + calibration_dataset.roi_devs[i] + calibration_dataset.rois[i].xmin, \n",
    "        color='r', alpha=2*plotstyle.err_alpha() )\n",
    "    #ax.plot( \n",
    "    #    calibration_dataset.roi_mids[i] + calibration_dataset.rois[i].xmin, \n",
    "    #    np.arange(calibration_dataset.roi_mids.shape[1]),\n",
    "    #    color='r', lw=1 )\n",
    "    ax.plot( \n",
    "        [ np.mean(calibration_dataset.roi_mids[i])+calibration_dataset.rois[i].xmin, np.mean(calibration_dataset.roi_mids[i])+calibration_dataset.rois[i].xmin], \n",
    "        [ -0.5, calibration_dataset.roi_mids.shape[1]-0.5 ],\n",
    "        color=plotstyle.monochrome_fg(), lw=1, ls=':' )\n",
    "    \n",
    "    limits = calibration_dataset.rois[i].to_extent()\n",
    "    ax.set_xlim( xmin=limits[0], xmax=limits[1] )\n",
    "    ax.set_ylim( ymin=limits[2], ymax=limits[3] )\n",
    "    del limits\n",
    "    \n",
    "    if i==0:\n",
    "        ax.set_ylabel('y [px]')\n",
    "    else:\n",
    "        ax.set(yticklabels=[])\n",
    "    if len(calibration_dataset.rois)//2 == i:\n",
    "        ax.set_xlabel('x [px]')\n",
    "    ax.set_title(\"ROI {i}\".format(i=i))\n",
    "\n",
    "#plt.tight_layout()\n",
    "plt.show()"
   ]
  },
  {
   "cell_type": "code",
   "execution_count": null,
   "id": "da938588",
   "metadata": {},
   "outputs": [],
   "source": [
    "calibration.to_dict()"
   ]
  },
  {
   "cell_type": "markdown",
   "id": "2ee8ad75",
   "metadata": {},
   "source": [
    "# Run Analysis on a Slice Image"
   ]
  },
  {
   "cell_type": "code",
   "execution_count": null,
   "id": "e9928aa1",
   "metadata": {},
   "outputs": [],
   "source": [
    "slice_dataset = bfp.SliceDataset()\n",
    "slice_dataset.load_image_data( bfp.TIFF_Stack().load_file(\"../../labdata/TIFF/211112/scatterer01/lineprofile-12500µm.tif\") )\n"
   ]
  },
  {
   "cell_type": "code",
   "execution_count": null,
   "id": "b6d93fc6",
   "metadata": {},
   "outputs": [],
   "source": [
    "slice_dataset.gen_mask()\n"
   ]
  },
  {
   "cell_type": "code",
   "execution_count": null,
   "id": "0661df23",
   "metadata": {},
   "outputs": [],
   "source": [
    "fig = plt.figure(figsize=(11,11), dpi=100)\n",
    "\n",
    "axs = fig.add_gridspec(2, 1)\n",
    "\n",
    "ax = fig.add_subplot(axs[ 0 , 0 ])\n",
    "\n",
    "im = ax.imshow( np.clip( slice_dataset.img_data_avg, 0.00003, 1), \n",
    "                norm=LogNorm(vmax=1), \n",
    "                cmap=plotstyle.cmap('a'))\n",
    "ax.set_xlabel('x [px]')\n",
    "ax.set_ylabel('y [px]')\n",
    "plt.colorbar(im, ax=ax)\n",
    "ax.set_title(\"Cumulative sCMOS Image\")\n",
    "\n",
    "ax = fig.add_subplot(axs[ 1 , 0 ])\n",
    "\n",
    "im = ax.imshow( slice_dataset.img_mask, cmap=plotstyle.cmap('bin'))\n",
    "ax.set_xlabel('x [px]')\n",
    "ax.set_ylabel('y [px]')\n",
    "plt.colorbar(im, ax=ax)\n",
    "ax.set_title(\"Mask\")\n",
    "\n",
    "plt.tight_layout()\n",
    "plt.show()"
   ]
  },
  {
   "cell_type": "code",
   "execution_count": null,
   "id": "107e1590",
   "metadata": {},
   "outputs": [],
   "source": [
    "slice_dataset.gen_rois()"
   ]
  },
  {
   "cell_type": "code",
   "execution_count": null,
   "id": "23da274c",
   "metadata": {},
   "outputs": [],
   "source": [
    "slice_dataset.map_rois()"
   ]
  },
  {
   "cell_type": "code",
   "execution_count": null,
   "id": "fc0e4ff5",
   "metadata": {},
   "outputs": [],
   "source": [
    "slice_dataset.correct_top_bottom_bg()"
   ]
  },
  {
   "cell_type": "code",
   "execution_count": null,
   "id": "11f656af",
   "metadata": {},
   "outputs": [],
   "source": [
    "fig = plt.figure(figsize=(12,10), dpi=100)\n",
    "\n",
    "axs = fig.add_gridspec( 1, int( slice_dataset.SLICE.width() + slice_dataset.SMEAR.width() ) + 10 )\n",
    "\n",
    "ax = fig.add_subplot( axs[ 0 , :int( slice_dataset.SLICE.width() ) ] )\n",
    "im = ax.imshow( \n",
    "    slice_dataset.SLICE(slice_dataset.img_data_avg), \n",
    "    #norm=LogNorm(vmax=1, vmin=0.0001), \n",
    "    vmin=0,\n",
    "    cmap=plotstyle.cmap('a'), aspect='auto',\n",
    "    extent=slice_dataset.SLICE.to_extent()\n",
    ")\n",
    "ax.set_ylabel('y [px]')\n",
    "ax.set_xlabel('x [px]')\n",
    "ax.set_title(\"SLICE\")\n",
    "\n",
    "ax.grid()\n",
    "\n",
    "\n",
    "\n",
    "EXTENT = slice_dataset.SMEAR.to_extent()\n",
    "EXTENT[0] -= slice_dataset.x0_px\n",
    "EXTENT[1] -= slice_dataset.x0_px\n",
    "EXTENT[0] *= calibration.px_to_lda()\n",
    "EXTENT[1] *= calibration.px_to_lda()\n",
    "\n",
    "ax = fig.add_subplot( axs[ 0 , int( slice_dataset.SLICE.width() )+10: ] )\n",
    "im = ax.imshow( \n",
    "    slice_dataset.SMEAR(slice_dataset.img_data_avg), \n",
    "    #norm=LogNorm(vmax=1, vmin=0.0001), \n",
    "    vmin=0,\n",
    "    cmap=plotstyle.cmap('a'), aspect='auto',\n",
    "    extent=EXTENT\n",
    ")\n",
    "ax.set(yticklabels=[])\n",
    "ax.set_xlabel('$\\lambda_\\mathrm{corresp.}$ [nm]')\n",
    "ax.set_title(\"SMEAR\")\n",
    "\n",
    "ax.grid()\n",
    "    \n",
    "\n",
    "    \n",
    "#plt.tight_layout()\n",
    "plt.show()"
   ]
  },
  {
   "cell_type": "code",
   "execution_count": null,
   "id": "f2285a14",
   "metadata": {},
   "outputs": [],
   "source": []
  }
 ],
 "metadata": {
  "kernelspec": {
   "display_name": "Python 3 (ipykernel)",
   "language": "python",
   "name": "python3"
  },
  "language_info": {
   "codemirror_mode": {
    "name": "ipython",
    "version": 3
   },
   "file_extension": ".py",
   "mimetype": "text/x-python",
   "name": "python",
   "nbconvert_exporter": "python",
   "pygments_lexer": "ipython3",
   "version": "3.9.7"
  }
 },
 "nbformat": 4,
 "nbformat_minor": 5
}
