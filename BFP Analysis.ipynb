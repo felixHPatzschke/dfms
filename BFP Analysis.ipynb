{
 "cells": [
  {
   "cell_type": "code",
   "execution_count": null,
   "id": "af335fd5",
   "metadata": {},
   "outputs": [],
   "source": [
    "#import skimage.io\n",
    "\n",
    "import numpy as np\n",
    "\n",
    "import matplotlib.pyplot as plt\n",
    "%matplotlib inline\n",
    "from matplotlib.colors import LogNorm\n",
    "\n",
    "import scipy.signal"
   ]
  },
  {
   "cell_type": "code",
   "execution_count": null,
   "id": "0c4bd253",
   "metadata": {},
   "outputs": [],
   "source": [
    "from util import plotstyle"
   ]
  },
  {
   "cell_type": "code",
   "execution_count": null,
   "id": "2a12c8dd",
   "metadata": {},
   "outputs": [],
   "source": [
    "plotstyle.load('screen_dark')\n",
    "#plotstyle.load('pretty_print')\n",
    "#plotstyle.load('print')"
   ]
  },
  {
   "cell_type": "code",
   "execution_count": null,
   "id": "afe0e168",
   "metadata": {},
   "outputs": [],
   "source": [
    "from util import bfp"
   ]
  },
  {
   "cell_type": "markdown",
   "id": "78d1b7bf",
   "metadata": {},
   "source": [
    "# Calibrate using a Calibration Dataset\n",
    "## Create Wrapper Object"
   ]
  },
  {
   "cell_type": "code",
   "execution_count": null,
   "id": "089809a6",
   "metadata": {},
   "outputs": [],
   "source": [
    "calibration_dataset = bfp.SliceDataset()"
   ]
  },
  {
   "cell_type": "markdown",
   "id": "cec08f92",
   "metadata": {},
   "source": [
    "## Load Image Data"
   ]
  },
  {
   "cell_type": "code",
   "execution_count": null,
   "id": "ff2f04ff",
   "metadata": {},
   "outputs": [],
   "source": [
    "calibration_dataset.load_image_data( bfp.TIFF_Stack().load_file(\"../../labdata/TIFF/211111/calibration_test_01.tif\") )"
   ]
  },
  {
   "cell_type": "code",
   "execution_count": null,
   "id": "14fc27a2",
   "metadata": {},
   "outputs": [],
   "source": [
    "calibration_dataset.img_data_avg.shape"
   ]
  },
  {
   "cell_type": "code",
   "execution_count": null,
   "id": "9e2ed8fc",
   "metadata": {},
   "outputs": [],
   "source": [
    "fig = plt.figure(figsize=(10,5), dpi=100)\n",
    "\n",
    "axs = fig.add_gridspec(1, 1)\n",
    "\n",
    "ax = fig.add_subplot(axs[ 0 , 0 ])\n",
    "\n",
    "im = ax.imshow( np.clip( calibration_dataset.img_data_avg, 0.00003, 1), \n",
    "                norm=LogNorm(vmax=1), \n",
    "                cmap=plotstyle.cmap('a'))\n",
    "ax.set_xlabel('$x$ [px]')\n",
    "ax.set_ylabel('$y$ [px]')\n",
    "plt.colorbar(im, ax=ax)\n",
    "ax.set_title(\"Cumulative sCMOS Image\")\n",
    "\n",
    "plt.tight_layout()\n",
    "plt.show()"
   ]
  },
  {
   "cell_type": "markdown",
   "id": "eb8db16c",
   "metadata": {},
   "source": [
    "## Generate Mask"
   ]
  },
  {
   "cell_type": "code",
   "execution_count": null,
   "id": "19439e6f",
   "metadata": {},
   "outputs": [],
   "source": [
    "calibration_dataset.gen_mask()"
   ]
  },
  {
   "cell_type": "code",
   "execution_count": null,
   "id": "c9d3d584",
   "metadata": {},
   "outputs": [],
   "source": [
    "fig = plt.figure(figsize=(10,5), dpi=100)\n",
    "\n",
    "axs = fig.add_gridspec(1, 1)\n",
    "\n",
    "ax = fig.add_subplot(axs[ 0 , 0 ])\n",
    "\n",
    "im = ax.imshow( calibration_dataset.img_mask, cmap=plotstyle.cmap('bin'))\n",
    "ax.set_xlabel('$x$ [px]')\n",
    "ax.set_ylabel('$y$ [px]')\n",
    "plt.colorbar(im, ax=ax)\n",
    "ax.set_title(\"Mask\")\n",
    "\n",
    "plt.tight_layout()\n",
    "plt.show()"
   ]
  },
  {
   "cell_type": "markdown",
   "id": "ae7565b3",
   "metadata": {},
   "source": [
    "## Generate Regions of Interest from the Mask"
   ]
  },
  {
   "cell_type": "code",
   "execution_count": null,
   "id": "0d303d29",
   "metadata": {},
   "outputs": [],
   "source": [
    "calibration_dataset.gen_rois()"
   ]
  },
  {
   "cell_type": "code",
   "execution_count": null,
   "id": "3333c149",
   "metadata": {},
   "outputs": [],
   "source": [
    "[ roi.to_string() for roi in calibration_dataset.rois ]"
   ]
  },
  {
   "cell_type": "code",
   "execution_count": null,
   "id": "e48acd5c",
   "metadata": {},
   "outputs": [],
   "source": [
    "fig = plt.figure(figsize=(12,10), dpi=100)\n",
    "\n",
    "axs = fig.add_gridspec( 1, int(np.sum(np.array([ r.width() for r in calibration_dataset.rois ])))+len(calibration_dataset.rois) )\n",
    "\n",
    "for i in range(len(calibration_dataset.rois)):\n",
    "    ax = fig.add_subplot(\n",
    "        axs[ 0 , int(np.sum(np.array([ r.width() for r in calibration_dataset.rois[:i] ])))+i:int(np.sum(np.array([ r.width() for r in calibration_dataset.rois[:i+1] ])))+i ]\n",
    "    )\n",
    "    im = ax.imshow( \n",
    "        calibration_dataset.rois[i](calibration_dataset.img_data_avg), \n",
    "        cmap=plotstyle.cmap('a'), vmin=0, aspect='auto',\n",
    "        extent=calibration_dataset.rois[i].to_extent()\n",
    "    )\n",
    "    if i==0:\n",
    "        ax.set_ylabel('$y$ [px]')\n",
    "    else:\n",
    "        ax.set(yticklabels=[])\n",
    "    if len(calibration_dataset.rois)//2 == i:\n",
    "        ax.set_xlabel('$x$ [px]')\n",
    "    ax.set_title(\"ROI {i}\".format(i=i))\n",
    "\n",
    "#plt.tight_layout()\n",
    "plt.show()"
   ]
  },
  {
   "cell_type": "markdown",
   "id": "902844eb",
   "metadata": {},
   "source": [
    "## Compute the Calibration Constant"
   ]
  },
  {
   "cell_type": "code",
   "execution_count": null,
   "id": "c3507860",
   "metadata": {},
   "outputs": [],
   "source": [
    "calibration = calibration_dataset.get_calibration()"
   ]
  },
  {
   "cell_type": "code",
   "execution_count": null,
   "id": "ee8abcf1",
   "metadata": {},
   "outputs": [],
   "source": [
    "fig = plt.figure(figsize=(12,10), dpi=100)\n",
    "\n",
    "axs = fig.add_gridspec( 1, int(np.sum(np.array([ r.width() for r in calibration_dataset.rois ])))+len(calibration_dataset.rois) )\n",
    "\n",
    "for i in range(len(calibration_dataset.rois)):\n",
    "    ax = fig.add_subplot(\n",
    "        axs[ 0 , int(np.sum(np.array([ r.width() for r in calibration_dataset.rois[:i] ])))+i:int(np.sum(np.array([ r.width() for r in calibration_dataset.rois[:i+1] ])))+i ]\n",
    "    )\n",
    "    EXTENT = calibration_dataset.rois[i].to_extent()\n",
    "    EXTENT[0] -= calibration_dataset.rois[0].get_xmean()\n",
    "    EXTENT[1] -= calibration_dataset.rois[0].get_xmean()\n",
    "    im = ax.imshow( \n",
    "        calibration_dataset.rois[i](calibration_dataset.img_data_avg), \n",
    "        cmap=plotstyle.cmap('a'), vmin=0, aspect='auto',\n",
    "        extent=EXTENT\n",
    "    )\n",
    "    ax.fill_betweenx( \n",
    "        #np.arange(calibration_dataset.roi_mids.shape[1]),\n",
    "        calibration_dataset.rois[i].Y(),\n",
    "        #np.convolve( calibration_dataset.roi_mids[i]-calibration_dataset.roi_devs[i], np.array([1,1,1,1,1])/5, mode='same' )+calibration_dataset.rois[i].xmin, \n",
    "        #np.convolve( calibration_dataset.roi_mids[i]+calibration_dataset.roi_devs[i], np.array([1,1,1,1,1])/5, mode='same' )+calibration_dataset.rois[i].xmin, \n",
    "        calibration_dataset.roi_mids[i] - calibration_dataset.roi_devs[i] - calibration_dataset.rois[0].get_xmean(), \n",
    "        calibration_dataset.roi_mids[i] + calibration_dataset.roi_devs[i] - calibration_dataset.rois[0].get_xmean(), \n",
    "        color='r', alpha=2*plotstyle.err_alpha() )\n",
    "    #ax.plot( \n",
    "    #    calibration_dataset.roi_mids[i] + calibration_dataset.rois[i].xmin, \n",
    "    #    np.arange(calibration_dataset.roi_mids.shape[1]),\n",
    "    #    color='r', lw=1 )\n",
    "    ax.plot( \n",
    "        [ np.mean(calibration_dataset.roi_mids[i])+calibration_dataset.rois[i].xmin-calibration_dataset.rois[0].get_xmean(), \n",
    "          np.mean(calibration_dataset.roi_mids[i])+calibration_dataset.rois[i].xmin-calibration_dataset.rois[0].get_xmean()], \n",
    "        [ -0.5, calibration_dataset.roi_mids.shape[1]-0.5 ],\n",
    "        color=plotstyle.monochrome_fg(), lw=1, ls=':' )\n",
    "    \n",
    "    #limits = calibration_dataset.rois[i].to_extent()\n",
    "    ax.set_xlim( xmin=EXTENT[0], xmax=EXTENT[1] )\n",
    "    ax.set_ylim( ymin=EXTENT[2], ymax=EXTENT[3] )\n",
    "    #del limits\n",
    "    \n",
    "    if i==0:\n",
    "        ax.set_ylabel('$y$ [px]')\n",
    "    else:\n",
    "        ax.set(yticklabels=[])\n",
    "    if len(calibration_dataset.rois)//2 == i:\n",
    "        ax.set_xlabel('$\\Delta x$ [px]')\n",
    "    ax.set_title(\"ROI {i}\".format(i=i))\n",
    "\n",
    "#del limits\n",
    "del EXTENT\n",
    "\n",
    "#plt.tight_layout()\n",
    "plt.show()"
   ]
  },
  {
   "cell_type": "code",
   "execution_count": null,
   "id": "42ae5e95",
   "metadata": {},
   "outputs": [],
   "source": [
    "for roi in calibration_dataset.rois:\n",
    "    print( roi.to_string() )"
   ]
  },
  {
   "cell_type": "code",
   "execution_count": null,
   "id": "da938588",
   "metadata": {},
   "outputs": [],
   "source": [
    "print( calibration.to_dict() )"
   ]
  },
  {
   "cell_type": "code",
   "execution_count": null,
   "id": "1d96d769",
   "metadata": {},
   "outputs": [],
   "source": [
    "print( \n",
    "    \"{a:.3f} nm/px ± {da:.4f} nm/px\\n{b:.3f} px/nm ± {db:.4f} px/nm\".format( \n",
    "        a=calibration.px_to_lda(), da=calibration.lda_error(),\n",
    "        b=calibration.lda_to_px(), db=calibration.px_error() \n",
    "    ) \n",
    ")"
   ]
  },
  {
   "cell_type": "code",
   "execution_count": null,
   "id": "f9bc7e5d",
   "metadata": {},
   "outputs": [],
   "source": [
    "#print(\"Calibration Done. Press [ENTER] to continue.\")"
   ]
  },
  {
   "cell_type": "code",
   "execution_count": null,
   "id": "7b33e883",
   "metadata": {},
   "outputs": [],
   "source": [
    "#input()"
   ]
  },
  {
   "cell_type": "markdown",
   "id": "2ee8ad75",
   "metadata": {},
   "source": [
    "# Extract a Spectral Correction from one Slice Image"
   ]
  },
  {
   "cell_type": "code",
   "execution_count": null,
   "id": "e9928aa1",
   "metadata": {},
   "outputs": [],
   "source": [
    "slice_dataset = bfp.SliceDataset()\n",
    "#slice_dataset.load_image_data( bfp.TIFF_Stack().load_file(\"../../labdata/TIFF/211112/scatterer01/lineprofile-12500µm.tif\") )\n",
    "slice_dataset.load_image_data( bfp.TIFF_Stack().load_file(\"../../labdata/TIFF/211112/lamp-spectrum-01.tif\") )\n"
   ]
  },
  {
   "cell_type": "code",
   "execution_count": null,
   "id": "b6d93fc6",
   "metadata": {},
   "outputs": [],
   "source": [
    "slice_dataset.gen_mask()\n"
   ]
  },
  {
   "cell_type": "code",
   "execution_count": null,
   "id": "0661df23",
   "metadata": {},
   "outputs": [],
   "source": [
    "fig = plt.figure(figsize=(11,11), dpi=100)\n",
    "\n",
    "axs = fig.add_gridspec(2, 1)\n",
    "\n",
    "ax = fig.add_subplot(axs[ 0 , 0 ])\n",
    "\n",
    "im = ax.imshow( np.clip( slice_dataset.img_data_avg, 0.00003, 1), \n",
    "                norm=LogNorm(vmax=1), \n",
    "                cmap=plotstyle.cmap('a'))\n",
    "ax.set_xlabel('$x$ [px]')\n",
    "ax.set_ylabel('$y$ [px]')\n",
    "plt.colorbar(im, ax=ax)\n",
    "ax.set_title(\"Cumulative sCMOS Image\")\n",
    "\n",
    "ax = fig.add_subplot(axs[ 1 , 0 ])\n",
    "\n",
    "im = ax.imshow( slice_dataset.img_mask, cmap=plotstyle.cmap('bin'))\n",
    "ax.set_xlabel('$x$ [px]')\n",
    "ax.set_ylabel('$y$ [px]')\n",
    "plt.colorbar(im, ax=ax)\n",
    "ax.set_title(\"Mask\")\n",
    "\n",
    "plt.tight_layout()\n",
    "plt.show()"
   ]
  },
  {
   "cell_type": "code",
   "execution_count": null,
   "id": "107e1590",
   "metadata": {},
   "outputs": [],
   "source": [
    "slice_dataset.gen_rois()"
   ]
  },
  {
   "cell_type": "code",
   "execution_count": null,
   "id": "23da274c",
   "metadata": {},
   "outputs": [],
   "source": [
    "slice_dataset.map_rois()"
   ]
  },
  {
   "cell_type": "code",
   "execution_count": null,
   "id": "fc0e4ff5",
   "metadata": {},
   "outputs": [],
   "source": [
    "slice_dataset.correct_top_bottom_bg()"
   ]
  },
  {
   "cell_type": "code",
   "execution_count": null,
   "id": "11f656af",
   "metadata": {},
   "outputs": [],
   "source": [
    "fig = plt.figure(figsize=(12,10), dpi=100)\n",
    "\n",
    "axs = fig.add_gridspec( 1, int( slice_dataset.SLICE.width() + slice_dataset.SMEAR.width() ) + 10 )\n",
    "\n",
    "EXTENT = slice_dataset.SLICE.to_extent()\n",
    "EXTENT[0] -= slice_dataset.SLICE.xmid()\n",
    "EXTENT[1] -= slice_dataset.SLICE.xmid()\n",
    "\n",
    "ax = fig.add_subplot( axs[ 0 , :int( slice_dataset.SLICE.width() ) ] )\n",
    "im = ax.imshow( \n",
    "    slice_dataset.SLICE(slice_dataset.img_data_avg), \n",
    "    #norm=LogNorm(vmax=1, vmin=0.0001), \n",
    "    vmin=0,\n",
    "    cmap=plotstyle.cmap('a'), aspect='auto',\n",
    "    extent=EXTENT\n",
    ")\n",
    "ax.set_ylabel('$y$ [px]')\n",
    "ax.set_xlabel('$\\Delta x$ [px]')\n",
    "ax.set_title(\"SLICE\")\n",
    "\n",
    "ax.grid()\n",
    "\n",
    "\n",
    "\n",
    "EXTENT = slice_dataset.SMEAR.to_extent()\n",
    "EXTENT[0] -= slice_dataset.x0_px\n",
    "EXTENT[1] -= slice_dataset.x0_px\n",
    "EXTENT[0] *= calibration.px_to_lda()\n",
    "EXTENT[1] *= calibration.px_to_lda()\n",
    "\n",
    "ax = fig.add_subplot( axs[ 0 , int( slice_dataset.SLICE.width() )+10: ] )\n",
    "im = ax.imshow( \n",
    "    slice_dataset.SMEAR(slice_dataset.img_data_avg), \n",
    "    #norm=LogNorm(vmax=1, vmin=0.0001), \n",
    "    vmin=0,\n",
    "    cmap=plotstyle.cmap('a'), aspect='auto',\n",
    "    extent=EXTENT\n",
    ")\n",
    "ax.set(yticklabels=[])\n",
    "ax.set_xlabel('$\\lambda_\\mathrm{corresp.}$ [nm]')\n",
    "ax.set_title(\"SMEAR\")\n",
    "\n",
    "ax.grid()\n",
    "    \n",
    "del EXTENT\n",
    "    \n",
    "#plt.tight_layout()\n",
    "plt.show()"
   ]
  },
  {
   "cell_type": "code",
   "execution_count": null,
   "id": "0218457d",
   "metadata": {},
   "outputs": [],
   "source": [
    "#lineweights = np.sum( slice_dataset.SMEAR(slice_dataset.img_data_avg), axis=1 )\n",
    "#lineweights /= np.sum(lineweights)\n",
    "\n",
    "#mean_spec = np.mean( slice_dataset.SMEAR(slice_dataset.img_data_avg), axis=0 )\n",
    "#mean_spec /= np.max(mean_spec)\n"
   ]
  },
  {
   "cell_type": "code",
   "execution_count": null,
   "id": "f2285a14",
   "metadata": {},
   "outputs": [],
   "source": [
    "fig = plt.figure(figsize=(12,9), dpi=100)\n",
    "\n",
    "axs = fig.add_gridspec( 1, 1 )\n",
    "\n",
    "ax = fig.add_subplot( axs[ 0 , : ] )\n",
    "\n",
    "BINNING = 4\n",
    "for i in np.arange( 0, slice_dataset.SMEAR(slice_dataset.img_data_avg).shape[0], BINNING ):\n",
    "    ax.plot(\n",
    "        calibration.px_to_lda( slice_dataset.SMEAR.X()-slice_dataset.x0_px ),\n",
    "        np.mean( slice_dataset.SMEAR(slice_dataset.img_data_avg)[i:i+BINNING], axis=0)/np.max(np.mean( slice_dataset.SMEAR(slice_dataset.img_data_avg)[i:i+BINNING], axis=0)),\n",
    "        color=plotstyle.c(0), #monochrome_fg(),\n",
    "        lw=1, ls='-', alpha=np.max(np.mean( slice_dataset.SMEAR(slice_dataset.img_data_avg)[i:i+BINNING], axis=0))\n",
    "    )\n",
    "del BINNING\n",
    "\n",
    "ax.plot(\n",
    "    calibration.px_to_lda( slice_dataset.SMEAR.X()-slice_dataset.x0_px ),\n",
    "    np.mean( slice_dataset.SMEAR(slice_dataset.img_data_avg), axis=0 )/np.max(np.mean( slice_dataset.SMEAR(slice_dataset.img_data_avg), axis=0 )),\n",
    "    color=plotstyle.monochrome_fg()    \n",
    ")\n",
    "\n",
    "#ax.set(yticklabels=[])\n",
    "ax.set_ylabel('Rel. Spectral Efficiency [a.u.]')\n",
    "ax.set_xlabel('$\\lambda_\\mathrm{corresp.}$ [nm]')\n",
    "ax.set_title(\"Spectral Correction\")\n",
    "\n",
    "ax.grid()\n",
    "    \n",
    "\n",
    "    \n",
    "plt.tight_layout()\n",
    "plt.show()"
   ]
  },
  {
   "cell_type": "markdown",
   "id": "ef93eba1",
   "metadata": {},
   "source": [
    "## Generate an Interpolation Function for the Spectral Correction"
   ]
  },
  {
   "cell_type": "code",
   "execution_count": null,
   "id": "70b8b451",
   "metadata": {},
   "outputs": [],
   "source": [
    "from scipy import interpolate"
   ]
  },
  {
   "cell_type": "code",
   "execution_count": null,
   "id": "13701972",
   "metadata": {},
   "outputs": [],
   "source": [
    "LDA = calibration.px_to_lda( slice_dataset.SMEAR.X()-slice_dataset.x0_px )\n",
    "VAL = np.mean( slice_dataset.SMEAR(slice_dataset.img_data_avg), axis=0 )/np.max(np.mean( slice_dataset.SMEAR(slice_dataset.img_data_avg), axis=0 ))"
   ]
  },
  {
   "cell_type": "code",
   "execution_count": null,
   "id": "90faeeed",
   "metadata": {},
   "outputs": [],
   "source": [
    "correction = scipy.interpolate.interp1d( LDA, VAL, kind=2 )"
   ]
  },
  {
   "cell_type": "code",
   "execution_count": null,
   "id": "f2a3fa4e",
   "metadata": {},
   "outputs": [],
   "source": [
    "del LDA\n",
    "del VAL"
   ]
  },
  {
   "cell_type": "markdown",
   "id": "2d08b0ed",
   "metadata": {},
   "source": [
    "# Conversion of Offset on the Slit to Pixel Offset"
   ]
  },
  {
   "cell_type": "code",
   "execution_count": null,
   "id": "7f095758",
   "metadata": {},
   "outputs": [],
   "source": [
    "M2 = 2.0 # magnification from slit to sensor\n",
    "px_size = 6.5 # micrometres\n",
    "um_to_px_offset = M2/px_size\n",
    "print( \"{:.3f} px/µm\".format(um_to_px_offset) )\n",
    "print( \"Offset @ 50 µm: {:.3f} px\".format(50*um_to_px_offset) )"
   ]
  },
  {
   "cell_type": "markdown",
   "id": "e4d9aadd",
   "metadata": {},
   "source": [
    "# Building a full 3D BFP Dataset"
   ]
  },
  {
   "cell_type": "code",
   "execution_count": null,
   "id": "16f6fa21",
   "metadata": {},
   "outputs": [],
   "source": [
    "shifts_um = np.arange( 11850, 13150+50, 50 )\n",
    "files = [ \"../../labdata/TIFF/211112/scatterer01/lineprofile-{:}µm.tif\".format(shift) for shift in shifts_um ]\n",
    "files"
   ]
  },
  {
   "cell_type": "code",
   "execution_count": null,
   "id": "b60b6bfa",
   "metadata": {},
   "outputs": [],
   "source": [
    "layers = shifts_um.shape[0]\n",
    "im_height = 1024\n",
    "shifts_px = np.round( um_to_px_offset*( shifts_um - np.min(shifts_um) ) ).astype(int)\n",
    "#shifts_px = np.round( um_to_px_offset*( -shifts_um + np.min(shifts_um) ) ).astype(int)\n",
    "#shifts_px = np.round( -um_to_px_offset*( shifts_um - np.max(shifts_um) ) ).astype(int)\n",
    "#shifts_px *= -1\n",
    "#shifts_px -= np.min(shifts_px)\n",
    "# required width of the image stack, with some margin\n",
    "im_width = np.max(shifts_px)-np.min(shifts_px)+5*np.max(np.diff(shifts_px))\n",
    "shifts_px += np.max(np.diff(shifts_px))\n",
    "#shifts_px -= np.max(np.diff(shifts_px))\n",
    "\n",
    "images = np.zeros( (layers, im_height, im_width) )\n"
   ]
  },
  {
   "cell_type": "code",
   "execution_count": null,
   "id": "28a3c195",
   "metadata": {},
   "outputs": [],
   "source": [
    "shifts_px = np.flipud(shifts_px) # TODO: do this properly, somehow through the offset factor"
   ]
  },
  {
   "cell_type": "code",
   "execution_count": null,
   "id": "580ae70c",
   "metadata": {},
   "outputs": [],
   "source": [
    "#images.shape\n",
    "shifts_px\n",
    "#im_width"
   ]
  },
  {
   "cell_type": "code",
   "execution_count": null,
   "id": "11f7ef75",
   "metadata": {},
   "outputs": [],
   "source": [
    "slices = [ bfp.SliceDataset().load_image_data( bfp.TIFF_Stack().load_file( FILE ) ) for FILE in files ]\n"
   ]
  },
  {
   "cell_type": "code",
   "execution_count": null,
   "id": "572c552d",
   "metadata": {},
   "outputs": [],
   "source": [
    "for sl in slices:\n",
    "    sl.gen_mask()\n",
    "    sl.gen_rois()\n",
    "    sl.map_rois()\n",
    "    sl.correct_top_bottom_bg()\n",
    "\n"
   ]
  },
  {
   "cell_type": "code",
   "execution_count": null,
   "id": "1be5cc00",
   "metadata": {
    "scrolled": true
   },
   "outputs": [],
   "source": [
    "fig = plt.figure(figsize=(12,6*len(slices)), dpi=100)\n",
    "\n",
    "axs = fig.add_gridspec( len(slices), 10 )\n",
    "\n",
    "i=0\n",
    "for sl in slices:\n",
    "    EXTENT = sl.SLICE.to_extent()\n",
    "    EXTENT[0] -= sl.SLICE.xmid()\n",
    "    EXTENT[1] -= sl.SLICE.xmid()\n",
    "\n",
    "    ax = fig.add_subplot( axs[ i , :1 ] )\n",
    "    im = ax.imshow( \n",
    "        sl.SLICE(sl.img_data_avg), \n",
    "        #norm=LogNorm(vmax=1, vmin=0.0001), \n",
    "        vmin=0,\n",
    "        cmap=plotstyle.cmap('a'), aspect='auto',\n",
    "        extent=EXTENT\n",
    "    )\n",
    "    ax.set_ylabel('$y$ [px]')\n",
    "    ax.set_xlabel('$\\Delta x$ [px]')\n",
    "    ax.set_title(\"SLICE\")\n",
    "\n",
    "    ax.grid()\n",
    "\n",
    "\n",
    "\n",
    "    EXTENT = sl.SMEAR.to_extent()\n",
    "    EXTENT[0] -= sl.x0_px\n",
    "    EXTENT[1] -= sl.x0_px\n",
    "    EXTENT[0] *= calibration.px_to_lda()\n",
    "    EXTENT[1] *= calibration.px_to_lda()\n",
    "\n",
    "    ax = fig.add_subplot( axs[ i , 1: ] )\n",
    "    im = ax.imshow( \n",
    "        sl.SMEAR(sl.img_data_avg), \n",
    "        #norm=LogNorm(vmax=1, vmin=0.0001), \n",
    "        vmin=0,\n",
    "        cmap=plotstyle.cmap('a'), aspect='auto',\n",
    "        extent=EXTENT\n",
    "    )\n",
    "    ax.set(yticklabels=[])\n",
    "    ax.set_xlabel('$\\lambda_\\mathrm{corresp.}$ [nm]')\n",
    "    ax.set_title(\"SMEAR\")\n",
    "\n",
    "    ax.grid()\n",
    "\n",
    "    del EXTENT\n",
    "    i += 1\n",
    "del i\n",
    "    \n",
    "plt.tight_layout()\n",
    "plt.show()"
   ]
  },
  {
   "cell_type": "code",
   "execution_count": null,
   "id": "b86093ff",
   "metadata": {},
   "outputs": [],
   "source": [
    "for i in range(layers):\n",
    "    print(slices[i].img_data_avg[:,slices[i].SLICE.xslice()].shape, \" -> \", images[i,:,shifts_px[i]:shifts_px[i]+slices[i].SLICE.width()].shape )"
   ]
  },
  {
   "cell_type": "code",
   "execution_count": null,
   "id": "089f0de0",
   "metadata": {},
   "outputs": [],
   "source": [
    "for i in range(layers):\n",
    "    images[i,:,shifts_px[i]:shifts_px[i]+slices[i].SLICE.width()] = np.copy( slices[i].img_data_avg[:,slices[i].SLICE.xslice()] ) # normalization factor, have to keep track of inside SliceDataset"
   ]
  },
  {
   "cell_type": "code",
   "execution_count": null,
   "id": "71fee764",
   "metadata": {},
   "outputs": [],
   "source": [
    "fig = plt.figure(figsize=(12,12), dpi=100)\n",
    "\n",
    "axs = fig.add_gridspec( 1, 10 )\n",
    "\n",
    "ax = fig.add_subplot( axs[ : , : ] )\n",
    "im = ax.imshow( \n",
    "    np.sum(images, axis=0), \n",
    "    #norm=LogNorm(vmax=1, vmin=0.0001), \n",
    "    vmin=0,\n",
    "    cmap=plotstyle.cmap('a'), #aspect='auto',\n",
    "    #extent=EXTENT\n",
    ")\n",
    "ax.set_ylabel('$y$ [px]')\n",
    "ax.set_xlabel('$\\Delta x$ [px]')\n",
    "ax.set_title(\"Re-assembled Image\")\n",
    "\n",
    "ax.grid()\n",
    "    \n",
    "plt.tight_layout()\n",
    "plt.show()"
   ]
  },
  {
   "cell_type": "code",
   "execution_count": null,
   "id": "ccdfee02",
   "metadata": {},
   "outputs": [],
   "source": []
  }
 ],
 "metadata": {
  "kernelspec": {
   "display_name": "Python 3 (ipykernel)",
   "language": "python",
   "name": "python3"
  },
  "language_info": {
   "codemirror_mode": {
    "name": "ipython",
    "version": 3
   },
   "file_extension": ".py",
   "mimetype": "text/x-python",
   "name": "python",
   "nbconvert_exporter": "python",
   "pygments_lexer": "ipython3",
   "version": "3.9.7"
  }
 },
 "nbformat": 4,
 "nbformat_minor": 5
}
