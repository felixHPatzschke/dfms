{
 "cells": [
  {
   "cell_type": "code",
   "execution_count": null,
   "id": "af335fd5",
   "metadata": {},
   "outputs": [],
   "source": [
    "#import skimage.io\n",
    "\n",
    "import numpy as np\n",
    "\n",
    "import matplotlib.pyplot as plt\n",
    "%matplotlib inline\n",
    "from matplotlib.colors import LogNorm\n",
    "\n",
    "import scipy.signal"
   ]
  },
  {
   "cell_type": "code",
   "execution_count": null,
   "id": "0c4bd253",
   "metadata": {},
   "outputs": [],
   "source": [
    "from util import plotstyle"
   ]
  },
  {
   "cell_type": "code",
   "execution_count": null,
   "id": "2a12c8dd",
   "metadata": {},
   "outputs": [],
   "source": [
    "plotstyle.load('screen_dark')\n",
    "#plotstyle.load('pretty_print')\n",
    "#plotstyle.load('print')"
   ]
  },
  {
   "cell_type": "code",
   "execution_count": null,
   "id": "afe0e168",
   "metadata": {},
   "outputs": [],
   "source": [
    "from util import bfp"
   ]
  },
  {
   "cell_type": "markdown",
   "id": "78d1b7bf",
   "metadata": {},
   "source": [
    "# Calibrate using a Calibration Dataset\n",
    "## Create Wrapper Object"
   ]
  },
  {
   "cell_type": "code",
   "execution_count": null,
   "id": "089809a6",
   "metadata": {},
   "outputs": [],
   "source": [
    "calibration_dataset = bfp.SliceDataset()"
   ]
  },
  {
   "cell_type": "markdown",
   "id": "cec08f92",
   "metadata": {},
   "source": [
    "## Load Image Data"
   ]
  },
  {
   "cell_type": "code",
   "execution_count": null,
   "id": "ff2f04ff",
   "metadata": {},
   "outputs": [],
   "source": [
    "calibration_dataset.load_image_data( bfp.TIFF_Stack().load_file(\"../../labdata/TIFF/211111/calibration_test_01.tif\") )"
   ]
  },
  {
   "cell_type": "code",
   "execution_count": null,
   "id": "14fc27a2",
   "metadata": {},
   "outputs": [],
   "source": [
    "calibration_dataset.img_data_avg.shape"
   ]
  },
  {
   "cell_type": "code",
   "execution_count": null,
   "id": "9e2ed8fc",
   "metadata": {},
   "outputs": [],
   "source": [
    "fig = plt.figure(figsize=(10,5), dpi=100)\n",
    "\n",
    "axs = fig.add_gridspec(1, 1)\n",
    "\n",
    "ax = fig.add_subplot(axs[ 0 , 0 ])\n",
    "\n",
    "im = ax.imshow( np.clip( calibration_dataset.img_data_avg, 0.00003, 1), \n",
    "                norm=LogNorm(vmax=1), \n",
    "                cmap=plotstyle.cmap('a'))\n",
    "ax.set_xlabel('$x$ [px]')\n",
    "ax.set_ylabel('$y$ [px]')\n",
    "plt.colorbar(im, ax=ax)\n",
    "ax.set_title(\"Cumulative sCMOS Image\")\n",
    "\n",
    "plt.tight_layout()\n",
    "plt.show()"
   ]
  },
  {
   "cell_type": "markdown",
   "id": "eb8db16c",
   "metadata": {},
   "source": [
    "## Generate Mask"
   ]
  },
  {
   "cell_type": "code",
   "execution_count": null,
   "id": "19439e6f",
   "metadata": {},
   "outputs": [],
   "source": [
    "calibration_dataset.gen_mask()"
   ]
  },
  {
   "cell_type": "code",
   "execution_count": null,
   "id": "c9d3d584",
   "metadata": {},
   "outputs": [],
   "source": [
    "fig = plt.figure(figsize=(10,5), dpi=100)\n",
    "\n",
    "axs = fig.add_gridspec(1, 1)\n",
    "\n",
    "ax = fig.add_subplot(axs[ 0 , 0 ])\n",
    "\n",
    "im = ax.imshow( calibration_dataset.img_mask, cmap=plotstyle.cmap('bin'))\n",
    "ax.set_xlabel('$x$ [px]')\n",
    "ax.set_ylabel('$y$ [px]')\n",
    "plt.colorbar(im, ax=ax)\n",
    "ax.set_title(\"Mask\")\n",
    "\n",
    "plt.tight_layout()\n",
    "plt.show()"
   ]
  },
  {
   "cell_type": "markdown",
   "id": "ae7565b3",
   "metadata": {},
   "source": [
    "## Generate Regions of Interest from the Mask"
   ]
  },
  {
   "cell_type": "code",
   "execution_count": null,
   "id": "0d303d29",
   "metadata": {},
   "outputs": [],
   "source": [
    "calibration_dataset.gen_rois()"
   ]
  },
  {
   "cell_type": "code",
   "execution_count": null,
   "id": "3333c149",
   "metadata": {},
   "outputs": [],
   "source": [
    "[ roi.to_string() for roi in calibration_dataset.rois ]"
   ]
  },
  {
   "cell_type": "code",
   "execution_count": null,
   "id": "e48acd5c",
   "metadata": {},
   "outputs": [],
   "source": [
    "fig = plt.figure(figsize=(12,10), dpi=100)\n",
    "\n",
    "axs = fig.add_gridspec( 1, int(np.sum(np.array([ r.width() for r in calibration_dataset.rois ])))+len(calibration_dataset.rois) )\n",
    "\n",
    "for i in range(len(calibration_dataset.rois)):\n",
    "    ax = fig.add_subplot(\n",
    "        axs[ 0 , int(np.sum(np.array([ r.width() for r in calibration_dataset.rois[:i] ])))+i:int(np.sum(np.array([ r.width() for r in calibration_dataset.rois[:i+1] ])))+i ]\n",
    "    )\n",
    "    im = ax.imshow( \n",
    "        calibration_dataset.rois[i](calibration_dataset.img_data_avg), \n",
    "        cmap=plotstyle.cmap('a'), vmin=0, aspect='auto',\n",
    "        extent=calibration_dataset.rois[i].to_extent()\n",
    "    )\n",
    "    if i==0:\n",
    "        ax.set_ylabel('$y$ [px]')\n",
    "    else:\n",
    "        ax.set(yticklabels=[])\n",
    "    if len(calibration_dataset.rois)//2 == i:\n",
    "        ax.set_xlabel('$x$ [px]')\n",
    "    ax.set_title(\"ROI {i}\".format(i=i))\n",
    "\n",
    "#plt.tight_layout()\n",
    "plt.show()"
   ]
  },
  {
   "cell_type": "markdown",
   "id": "902844eb",
   "metadata": {},
   "source": [
    "## Compute the Calibration Constant"
   ]
  },
  {
   "cell_type": "code",
   "execution_count": null,
   "id": "c3507860",
   "metadata": {},
   "outputs": [],
   "source": [
    "calibration = calibration_dataset.get_calibration()"
   ]
  },
  {
   "cell_type": "code",
   "execution_count": null,
   "id": "ee8abcf1",
   "metadata": {},
   "outputs": [],
   "source": [
    "fig = plt.figure(figsize=(12,10), dpi=100)\n",
    "\n",
    "axs = fig.add_gridspec( 1, int(np.sum(np.array([ r.width() for r in calibration_dataset.rois ])))+len(calibration_dataset.rois) )\n",
    "\n",
    "for i in range(len(calibration_dataset.rois)):\n",
    "    ax = fig.add_subplot(\n",
    "        axs[ 0 , int(np.sum(np.array([ r.width() for r in calibration_dataset.rois[:i] ])))+i:int(np.sum(np.array([ r.width() for r in calibration_dataset.rois[:i+1] ])))+i ]\n",
    "    )\n",
    "    EXTENT = calibration_dataset.rois[i].to_extent()\n",
    "    EXTENT[0] -= calibration_dataset.rois[0].get_xmean()\n",
    "    EXTENT[1] -= calibration_dataset.rois[0].get_xmean()\n",
    "    im = ax.imshow( \n",
    "        calibration_dataset.rois[i](calibration_dataset.img_data_avg), \n",
    "        cmap=plotstyle.cmap('a'), vmin=0, aspect='auto',\n",
    "        extent=EXTENT\n",
    "    )\n",
    "    ax.fill_betweenx( \n",
    "        #np.arange(calibration_dataset.roi_mids.shape[1]),\n",
    "        calibration_dataset.rois[i].Y(),\n",
    "        #np.convolve( calibration_dataset.roi_mids[i]-calibration_dataset.roi_devs[i], np.array([1,1,1,1,1])/5, mode='same' )+calibration_dataset.rois[i].xmin, \n",
    "        #np.convolve( calibration_dataset.roi_mids[i]+calibration_dataset.roi_devs[i], np.array([1,1,1,1,1])/5, mode='same' )+calibration_dataset.rois[i].xmin, \n",
    "        calibration_dataset.roi_mids[i] - calibration_dataset.roi_devs[i] - calibration_dataset.rois[0].get_xmean(), \n",
    "        calibration_dataset.roi_mids[i] + calibration_dataset.roi_devs[i] - calibration_dataset.rois[0].get_xmean(), \n",
    "        color='r', alpha=2*plotstyle.err_alpha() )\n",
    "    #ax.plot( \n",
    "    #    calibration_dataset.roi_mids[i] + calibration_dataset.rois[i].xmin, \n",
    "    #    np.arange(calibration_dataset.roi_mids.shape[1]),\n",
    "    #    color='r', lw=1 )\n",
    "    ax.plot( \n",
    "        [ np.mean(calibration_dataset.roi_mids[i])+calibration_dataset.rois[i].xmin-calibration_dataset.rois[0].get_xmean(), \n",
    "          np.mean(calibration_dataset.roi_mids[i])+calibration_dataset.rois[i].xmin-calibration_dataset.rois[0].get_xmean()], \n",
    "        [ -0.5, calibration_dataset.roi_mids.shape[1]-0.5 ],\n",
    "        color=plotstyle.monochrome_fg(), lw=1, ls=':' )\n",
    "    \n",
    "    #limits = calibration_dataset.rois[i].to_extent()\n",
    "    ax.set_xlim( xmin=EXTENT[0], xmax=EXTENT[1] )\n",
    "    ax.set_ylim( ymin=EXTENT[2], ymax=EXTENT[3] )\n",
    "    #del limits\n",
    "    \n",
    "    if i==0:\n",
    "        ax.set_ylabel('$y$ [px]')\n",
    "    else:\n",
    "        ax.set(yticklabels=[])\n",
    "    if len(calibration_dataset.rois)//2 == i:\n",
    "        ax.set_xlabel('$\\Delta x$ [px]')\n",
    "    ax.set_title(\"ROI {i}\".format(i=i))\n",
    "\n",
    "#del limits\n",
    "del EXTENT\n",
    "\n",
    "#plt.tight_layout()\n",
    "plt.show()"
   ]
  },
  {
   "cell_type": "code",
   "execution_count": null,
   "id": "42ae5e95",
   "metadata": {},
   "outputs": [],
   "source": [
    "for roi in calibration_dataset.rois:\n",
    "    print( roi.to_string() )"
   ]
  },
  {
   "cell_type": "code",
   "execution_count": null,
   "id": "da938588",
   "metadata": {},
   "outputs": [],
   "source": [
    "print( calibration.to_dict() )"
   ]
  },
  {
   "cell_type": "code",
   "execution_count": null,
   "id": "1d96d769",
   "metadata": {},
   "outputs": [],
   "source": [
    "print( \n",
    "    \"{a:.3f} nm/px ± {da:.4f} nm/px\\n{b:.3f} px/nm ± {db:.4f} px/nm\".format( \n",
    "        a=calibration.px_to_lda(), da=calibration.lda_error(),\n",
    "        b=calibration.lda_to_px(), db=calibration.px_error() \n",
    "    ) \n",
    ")"
   ]
  },
  {
   "cell_type": "code",
   "execution_count": null,
   "id": "f9bc7e5d",
   "metadata": {},
   "outputs": [],
   "source": [
    "#print(\"Calibration Done. Press [ENTER] to continue.\")"
   ]
  },
  {
   "cell_type": "code",
   "execution_count": null,
   "id": "7b33e883",
   "metadata": {},
   "outputs": [],
   "source": [
    "#input()"
   ]
  },
  {
   "cell_type": "markdown",
   "id": "81011a70",
   "metadata": {},
   "source": [
    "## Cleanup"
   ]
  },
  {
   "cell_type": "code",
   "execution_count": null,
   "id": "b4b94b08",
   "metadata": {},
   "outputs": [],
   "source": [
    "del calibration_dataset"
   ]
  },
  {
   "cell_type": "markdown",
   "id": "2ee8ad75",
   "metadata": {},
   "source": [
    "# Extract a Spectral Correction from one Slice Image"
   ]
  },
  {
   "cell_type": "code",
   "execution_count": null,
   "id": "e9928aa1",
   "metadata": {},
   "outputs": [],
   "source": [
    "slice_dataset = bfp.SliceDataset()\n",
    "#slice_dataset.load_image_data( bfp.TIFF_Stack().load_file(\"../../labdata/TIFF/211112/scatterer01/lineprofile-12500µm.tif\") )\n",
    "\n",
    "# Calibrate for the Halogen Lamp\n",
    "slice_dataset.load_image_data( bfp.TIFF_Stack().load_file(\"../../labdata/TIFF/211112/lamp-spectrum-01.tif\") )\n",
    "\n",
    "# Calibrate for the LED\n",
    "#slice_dataset.load_image_data( bfp.TIFF_Stack().load_file(\"../../labdata/TIFF/211111/test.tif\") )\n",
    "#slice_dataset.load_image_data( bfp.TIFF_Stack().load_file(\"../../labdata/TIFF/211111/test02.tif\") )\n",
    "\n"
   ]
  },
  {
   "cell_type": "code",
   "execution_count": null,
   "id": "b6d93fc6",
   "metadata": {},
   "outputs": [],
   "source": [
    "slice_dataset.gen_mask()\n"
   ]
  },
  {
   "cell_type": "code",
   "execution_count": null,
   "id": "0661df23",
   "metadata": {},
   "outputs": [],
   "source": [
    "fig = plt.figure(figsize=(11,11), dpi=100)\n",
    "\n",
    "axs = fig.add_gridspec(2, 1)\n",
    "\n",
    "ax = fig.add_subplot(axs[ 0 , 0 ])\n",
    "\n",
    "im = ax.imshow( np.clip( slice_dataset.img_data_avg, 0.00003, 1), \n",
    "                norm=LogNorm(vmax=1), \n",
    "                cmap=plotstyle.cmap('a'))\n",
    "ax.set_xlabel('$x$ [px]')\n",
    "ax.set_ylabel('$y$ [px]')\n",
    "plt.colorbar(im, ax=ax)\n",
    "ax.set_title(\"Cumulative sCMOS Image\")\n",
    "\n",
    "ax = fig.add_subplot(axs[ 1 , 0 ])\n",
    "\n",
    "im = ax.imshow( slice_dataset.img_mask, cmap=plotstyle.cmap('bin'))\n",
    "ax.set_xlabel('$x$ [px]')\n",
    "ax.set_ylabel('$y$ [px]')\n",
    "plt.colorbar(im, ax=ax)\n",
    "ax.set_title(\"Mask\")\n",
    "\n",
    "plt.tight_layout()\n",
    "plt.show()"
   ]
  },
  {
   "cell_type": "code",
   "execution_count": null,
   "id": "107e1590",
   "metadata": {},
   "outputs": [],
   "source": [
    "slice_dataset.gen_rois()"
   ]
  },
  {
   "cell_type": "code",
   "execution_count": null,
   "id": "23da274c",
   "metadata": {},
   "outputs": [],
   "source": [
    "slice_dataset.map_rois()"
   ]
  },
  {
   "cell_type": "code",
   "execution_count": null,
   "id": "1c0720c1",
   "metadata": {},
   "outputs": [],
   "source": [
    "slice_dataset.SMEAR.xmin = int(slice_dataset.SLICE.xmid()+slice_dataset.SLICE.width())"
   ]
  },
  {
   "cell_type": "code",
   "execution_count": null,
   "id": "fc0e4ff5",
   "metadata": {},
   "outputs": [],
   "source": [
    "slice_dataset.correct_top_bottom_bg()"
   ]
  },
  {
   "cell_type": "code",
   "execution_count": null,
   "id": "11f656af",
   "metadata": {},
   "outputs": [],
   "source": [
    "fig = plt.figure(figsize=(12,10), dpi=100)\n",
    "\n",
    "axs = fig.add_gridspec( 1, int( slice_dataset.SLICE.width() + slice_dataset.SMEAR.width() ) + 10 )\n",
    "\n",
    "EXTENT = slice_dataset.SLICE.to_extent()\n",
    "EXTENT[0] -= slice_dataset.SLICE.xmid()\n",
    "EXTENT[1] -= slice_dataset.SLICE.xmid()\n",
    "\n",
    "ax = fig.add_subplot( axs[ 0 , :int( slice_dataset.SLICE.width() ) ] )\n",
    "im = ax.imshow( \n",
    "    slice_dataset.SLICE(slice_dataset.img_data_avg), \n",
    "    #norm=LogNorm(vmax=1, vmin=0.0001), \n",
    "    vmin=0,\n",
    "    cmap=plotstyle.cmap('a'), aspect='auto',\n",
    "    extent=EXTENT\n",
    ")\n",
    "ax.set_ylabel('$y$ [px]')\n",
    "ax.set_xlabel('$\\Delta x$ [px]')\n",
    "ax.set_title(\"SLICE\")\n",
    "\n",
    "ax.grid()\n",
    "\n",
    "\n",
    "\n",
    "EXTENT = slice_dataset.SMEAR.to_extent()\n",
    "EXTENT[0] -= slice_dataset.x0_px\n",
    "EXTENT[1] -= slice_dataset.x0_px\n",
    "EXTENT[0] *= calibration.px_to_lda()\n",
    "EXTENT[1] *= calibration.px_to_lda()\n",
    "\n",
    "ax = fig.add_subplot( axs[ 0 , int( slice_dataset.SLICE.width() )+10: ] )\n",
    "im = ax.imshow( \n",
    "    slice_dataset.SMEAR(slice_dataset.img_data_avg), \n",
    "    #norm=LogNorm(vmax=1, vmin=0.0001), \n",
    "    vmin=0,\n",
    "    cmap=plotstyle.cmap('a'), aspect='auto',\n",
    "    extent=EXTENT\n",
    ")\n",
    "ax.set(yticklabels=[])\n",
    "ax.set_xlabel('$\\lambda_\\mathrm{corresp.}$ [nm]')\n",
    "ax.set_title(\"SMEAR\")\n",
    "\n",
    "ax.grid()\n",
    "    \n",
    "del EXTENT\n",
    "    \n",
    "#plt.tight_layout()\n",
    "plt.show()"
   ]
  },
  {
   "cell_type": "code",
   "execution_count": null,
   "id": "0218457d",
   "metadata": {},
   "outputs": [],
   "source": [
    "#lineweights = np.sum( slice_dataset.SMEAR(slice_dataset.img_data_avg), axis=1 )\n",
    "#lineweights /= np.sum(lineweights)\n",
    "\n",
    "#mean_spec = np.mean( slice_dataset.SMEAR(slice_dataset.img_data_avg), axis=0 )\n",
    "#mean_spec /= np.max(mean_spec)\n"
   ]
  },
  {
   "cell_type": "code",
   "execution_count": null,
   "id": "f2285a14",
   "metadata": {},
   "outputs": [],
   "source": [
    "fig = plt.figure(figsize=(12,9), dpi=100)\n",
    "\n",
    "axs = fig.add_gridspec( 1, 1 )\n",
    "\n",
    "ax = fig.add_subplot( axs[ 0 , : ] )\n",
    "\n",
    "BINNING = 4\n",
    "for i in np.arange( 0, slice_dataset.SMEAR(slice_dataset.img_data_avg).shape[0], BINNING ):\n",
    "    ax.plot(\n",
    "        calibration.px_to_lda( slice_dataset.SMEAR.X()-slice_dataset.x0_px ),\n",
    "        np.mean( slice_dataset.SMEAR(slice_dataset.img_data_avg)[i:i+BINNING], axis=0)/np.max(np.mean( slice_dataset.SMEAR(slice_dataset.img_data_avg)[i:i+BINNING], axis=0)),\n",
    "        color=plotstyle.c(0), #monochrome_fg(),\n",
    "        lw=1, ls='-', alpha=np.max(np.mean( slice_dataset.SMEAR(slice_dataset.img_data_avg)[i:i+BINNING], axis=0))\n",
    "    )\n",
    "del BINNING\n",
    "\n",
    "ax.plot(\n",
    "    calibration.px_to_lda( slice_dataset.SMEAR.X()-slice_dataset.x0_px ),\n",
    "    np.mean( slice_dataset.SMEAR(slice_dataset.img_data_avg), axis=0 )/np.max(np.mean( slice_dataset.SMEAR(slice_dataset.img_data_avg), axis=0 )),\n",
    "    color=plotstyle.monochrome_fg()    \n",
    ")\n",
    "\n",
    "#ax.set(yticklabels=[])\n",
    "ax.set_ylabel('Rel. Spectral Efficiency [a.u.]')\n",
    "ax.set_xlabel('$\\lambda_\\mathrm{corresp.}$ [nm]')\n",
    "ax.set_title(\"Spectral Correction\")\n",
    "\n",
    "ax.grid()\n",
    "    \n",
    "\n",
    "    \n",
    "plt.tight_layout()\n",
    "plt.show()"
   ]
  },
  {
   "cell_type": "markdown",
   "id": "ef93eba1",
   "metadata": {},
   "source": [
    "## Generate an Interpolation Function for the Spectral Correction"
   ]
  },
  {
   "cell_type": "code",
   "execution_count": null,
   "id": "70b8b451",
   "metadata": {},
   "outputs": [],
   "source": [
    "from scipy import interpolate"
   ]
  },
  {
   "cell_type": "code",
   "execution_count": null,
   "id": "13701972",
   "metadata": {},
   "outputs": [],
   "source": [
    "LDA = calibration.px_to_lda( slice_dataset.SMEAR.X()-slice_dataset.x0_px )\n",
    "VAL = np.mean( slice_dataset.SMEAR(slice_dataset.img_data_avg), axis=0 )/np.max(np.mean( slice_dataset.SMEAR(slice_dataset.img_data_avg), axis=0 ))"
   ]
  },
  {
   "cell_type": "code",
   "execution_count": null,
   "id": "141c7c50",
   "metadata": {},
   "outputs": [],
   "source": [
    "LDA = np.append( LDA, 1000.0 )\n",
    "VAL = np.append( VAL, 0.0 )"
   ]
  },
  {
   "cell_type": "code",
   "execution_count": null,
   "id": "90faeeed",
   "metadata": {},
   "outputs": [],
   "source": [
    "correction = scipy.interpolate.interp1d( LDA, VAL, kind=2 )\n",
    "correction_valid_range = (np.min(LDA), np.max(LDA))\n"
   ]
  },
  {
   "cell_type": "code",
   "execution_count": null,
   "id": "c5903e5a",
   "metadata": {},
   "outputs": [],
   "source": [
    "correction_valid_range"
   ]
  },
  {
   "cell_type": "markdown",
   "id": "958af5a2",
   "metadata": {},
   "source": [
    "## Cleanup"
   ]
  },
  {
   "cell_type": "code",
   "execution_count": null,
   "id": "f2a3fa4e",
   "metadata": {},
   "outputs": [],
   "source": [
    "del LDA\n",
    "del VAL\n",
    "\n",
    "del slice_dataset"
   ]
  },
  {
   "cell_type": "markdown",
   "id": "e4d9aadd",
   "metadata": {},
   "source": [
    "# Building a full 3D BFP Dataset"
   ]
  },
  {
   "cell_type": "markdown",
   "id": "b85ba3e4",
   "metadata": {},
   "source": [
    "## Filtering Functions to convert Spectra to Colour"
   ]
  },
  {
   "cell_type": "code",
   "execution_count": null,
   "id": "8f0a6e7f",
   "metadata": {},
   "outputs": [],
   "source": [
    "#from util import colour_system as cs\n",
    "from util import colour\n",
    "\n",
    "cs = colour.cs_hdtv\n"
   ]
  },
  {
   "cell_type": "code",
   "execution_count": null,
   "id": "9ffbac0a",
   "metadata": {},
   "outputs": [],
   "source": [
    "LDA = np.linspace( correction_valid_range[0], correction_valid_range[1], 400 )"
   ]
  },
  {
   "cell_type": "code",
   "execution_count": null,
   "id": "b24d8556",
   "metadata": {},
   "outputs": [],
   "source": [
    "RGB_map = [ cs.spec_to_rgb([lda], [1]) for lda in LDA ]\n",
    "#for i in range( len(RGB) ):\n",
    "#    RGB[i] /= np.sum(RGB[i])\n",
    "RGB_map = np.array( [RGB_map] )\n"
   ]
  },
  {
   "cell_type": "code",
   "execution_count": null,
   "id": "99e8af8e",
   "metadata": {},
   "outputs": [],
   "source": [
    "fig = plt.figure(figsize=(12,6), dpi=100)\n",
    "\n",
    "axs = fig.add_gridspec( 4, 1 )\n",
    "\n",
    "\n",
    "ax = fig.add_subplot( axs[ :-1 , : ] )\n",
    "\n",
    "ax.fill_between( LDA, RGB_map[0,:,0], alpha=0.2 )\n",
    "ax.plot( LDA, RGB_map[0,:,0], label='Red Channel' )\n",
    "\n",
    "ax.fill_between( LDA, RGB_map[0,:,1], alpha=0.2 )\n",
    "ax.plot( LDA, RGB_map[0,:,1], label='Green Channel' )\n",
    "\n",
    "ax.fill_between( LDA, RGB_map[0,:,2], alpha=0.2 )\n",
    "ax.plot( LDA, RGB_map[0,:,2], label='Blue Channel' )\n",
    "\n",
    "ax.set_xlim( xmin=np.min(LDA), xmax=np.max(LDA) )\n",
    "ax.set_ylabel('Activation [a.u.]')\n",
    "ax.set_xlabel('$\\lambda$ [nm]')\n",
    "ax.set_title(\"RGB Components\")\n",
    "\n",
    "ax.legend()\n",
    "ax.grid()\n",
    "\n",
    "\n",
    "ax = fig.add_subplot( axs[ -1 , : ] )\n",
    "\n",
    "ax.imshow(RGB_map, extent=( np.min(LDA), np.max(LDA), 1, 0 ), aspect='auto')\n",
    "\n",
    "#ax.set_ylabel('$y$ [px]')\n",
    "ax.set(yticklabels=[])\n",
    "ax.set_xlabel('$\\lambda$ [nm]')\n",
    "ax.set_title(\"Colour Representation\")\n",
    "\n",
    "ax.grid()\n",
    "\n",
    "\n",
    "plt.tight_layout()\n",
    "plt.show()"
   ]
  },
  {
   "cell_type": "markdown",
   "id": "4436f05e",
   "metadata": {},
   "source": [
    "### Test on the Correction Spectrum"
   ]
  },
  {
   "cell_type": "code",
   "execution_count": null,
   "id": "4c8c6111",
   "metadata": {},
   "outputs": [],
   "source": [
    "\n",
    "def planck(wav, T=6000):\n",
    "    pi = np.pi\n",
    "    h = 6.626e-34\n",
    "    c = 3.0e+8\n",
    "    k = 1.38e-23\n",
    "    \n",
    "    a = 2.0*h*c**2\n",
    "    b = h*c/(1e-9*wav*k*T)\n",
    "    intensity = a/ ( (1e-9*wav**5) * (np.exp(b) - 1.0) )\n",
    "    return intensity\n",
    "\n",
    "def flat(lda):\n",
    "    return (0.0*lda)+1.0\n"
   ]
  },
  {
   "cell_type": "code",
   "execution_count": null,
   "id": "874ac7ce",
   "metadata": {},
   "outputs": [],
   "source": [
    "test_spec = correction(LDA)\n",
    "#test_spec = flat(LDA)\n",
    "#test_spec = planck(LDA, 6000)\n",
    "\n",
    "test_spec /= np.max(test_spec)\n"
   ]
  },
  {
   "cell_type": "code",
   "execution_count": null,
   "id": "11603efa",
   "metadata": {},
   "outputs": [],
   "source": [
    "RGB = cs.spec_to_rgb(LDA, test_spec)\n",
    "RGB.shape"
   ]
  },
  {
   "cell_type": "code",
   "execution_count": null,
   "id": "cf217085",
   "metadata": {},
   "outputs": [],
   "source": [
    "for i in [0,1,2]:\n",
    "    RGB_map[0,:,i] *= test_spec"
   ]
  },
  {
   "cell_type": "code",
   "execution_count": null,
   "id": "2a3dafb3",
   "metadata": {},
   "outputs": [],
   "source": [
    "fig = plt.figure(figsize=(12,6), dpi=100)\n",
    "\n",
    "axs = fig.add_gridspec( 4, 1 )\n",
    "\n",
    "\n",
    "ax = fig.add_subplot( axs[ :-1 , : ] )\n",
    "\n",
    "ax.fill_between( LDA, RGB_map[0,:,0], alpha=0.2 )\n",
    "ax.plot(         LDA, RGB_map[0,:,0] )\n",
    "\n",
    "ax.fill_between( LDA, RGB_map[0,:,1], alpha=0.2 )\n",
    "ax.plot(         LDA, RGB_map[0,:,1] )\n",
    "\n",
    "ax.fill_between( LDA, RGB_map[0,:,2], alpha=0.2 )\n",
    "ax.plot(         LDA, RGB_map[0,:,2] )\n",
    "\n",
    "ax.fill_between( LDA, test_spec, (0.0*LDA)+1.0, color=plotstyle.monochrome_fg(), alpha=plotstyle.err_alpha() )\n",
    "#ax.fill_between( LDA, correction(LDA), color=plotstyle.monochrome_fg(), alpha=plotstyle.err_alpha() )\n",
    "ax.plot( LDA, test_spec, color=plotstyle.monochrome_fg(), ls=':' )\n",
    "\n",
    "\n",
    "ax.set_xlim( xmin=np.min(LDA), xmax=np.max(LDA) )\n",
    "ax.set_ylabel('Activation [a.u.]')\n",
    "ax.set_xlabel('$\\lambda$ [nm]')\n",
    "ax.set_title(\"Filtering\")\n",
    "\n",
    "ax.grid()\n",
    "\n",
    "\n",
    "\n",
    "ax = fig.add_subplot( axs[ -1 , : ] )\n",
    "\n",
    "ax.imshow(RGB_map, extent=( np.min(LDA), np.max(LDA), 1, 0 ), aspect='auto')\n",
    "\n",
    "#ax.set_ylabel('$y$ [px]')\n",
    "ax.set(yticklabels=[])\n",
    "ax.set_xlabel('$\\lambda$ [nm]')\n",
    "ax.set_title(\"Colour Representation\")\n",
    "\n",
    "\n",
    "plt.tight_layout()\n",
    "plt.show()"
   ]
  },
  {
   "cell_type": "code",
   "execution_count": null,
   "id": "480146f8",
   "metadata": {},
   "outputs": [],
   "source": [
    "fig = plt.figure(figsize=(8,1), dpi=100)\n",
    "\n",
    "axs = fig.add_gridspec( 1, 1 )\n",
    "\n",
    "ax = fig.add_subplot( axs[ : , : ] )\n",
    "\n",
    "ax.imshow(RGB[np.newaxis,np.newaxis], extent=( 0, 1, 1, 0 ), aspect='auto')\n",
    "\n",
    "ax.axis('off')\n",
    "ax.set_title(\"Percieved Colour\")\n",
    "\n",
    "plt.tight_layout()\n",
    "plt.show()"
   ]
  },
  {
   "cell_type": "code",
   "execution_count": null,
   "id": "e2d3052b",
   "metadata": {},
   "outputs": [],
   "source": [
    "del LDA"
   ]
  },
  {
   "cell_type": "markdown",
   "id": "2d08b0ed",
   "metadata": {},
   "source": [
    "## Conversion of Offset on the Slit to Pixel Offset"
   ]
  },
  {
   "cell_type": "code",
   "execution_count": null,
   "id": "7f095758",
   "metadata": {},
   "outputs": [],
   "source": [
    "M2 = 2.0 # magnification from slit to sensor\n",
    "px_size = 6.5 # micrometres\n",
    "um_to_px_offset = M2/px_size\n",
    "print( \"{:.3f} px/µm\".format(um_to_px_offset) )\n",
    "print( \"Offset @ 50 µm: {:.3f} px\".format(50*um_to_px_offset) )"
   ]
  },
  {
   "cell_type": "markdown",
   "id": "3bf78bf3",
   "metadata": {},
   "source": [
    "## Load each Slice"
   ]
  },
  {
   "cell_type": "code",
   "execution_count": null,
   "id": "16f6fa21",
   "metadata": {},
   "outputs": [],
   "source": [
    "shifts_um = np.arange( 11850, 13150+50, 50 )\n",
    "files = [ \"../../labdata/TIFF/211112/scatterer01/lineprofile-{:}µm.tif\".format(shift) for shift in shifts_um ]\n",
    "files"
   ]
  },
  {
   "cell_type": "code",
   "execution_count": null,
   "id": "11f7ef75",
   "metadata": {},
   "outputs": [],
   "source": [
    "slices = [ bfp.SliceDataset().load_image_data( bfp.TIFF_Stack().load_file( FILE ) ) for FILE in files ]\n"
   ]
  },
  {
   "cell_type": "code",
   "execution_count": null,
   "id": "572c552d",
   "metadata": {},
   "outputs": [],
   "source": [
    "for sl in slices:\n",
    "    sl.gen_mask()\n",
    "    sl.gen_rois()\n",
    "    sl.map_rois()\n",
    "    sl.correct_top_bottom_bg()\n"
   ]
  },
  {
   "cell_type": "code",
   "execution_count": null,
   "id": "f7147141",
   "metadata": {},
   "outputs": [],
   "source": [
    "#for sl in slices:\n",
    "#    sl.SMEAR.xmin = int(sl.SLICE.xmid()+sl.SLICE.width())\n",
    "    "
   ]
  },
  {
   "cell_type": "code",
   "execution_count": null,
   "id": "1be5cc00",
   "metadata": {
    "scrolled": true
   },
   "outputs": [],
   "source": [
    "fig = plt.figure(figsize=(12,6*len(slices)), dpi=100)\n",
    "\n",
    "axs = fig.add_gridspec( len(slices), 10 )\n",
    "\n",
    "i=0\n",
    "for sl in slices:\n",
    "    EXTENT = sl.SLICE.to_extent()\n",
    "    EXTENT[0] -= sl.SLICE.xmid()\n",
    "    EXTENT[1] -= sl.SLICE.xmid()\n",
    "\n",
    "    ax = fig.add_subplot( axs[ i , :1 ] )\n",
    "    im = ax.imshow( \n",
    "        sl.SLICE(sl.img_data_avg), \n",
    "        #norm=LogNorm(vmax=1, vmin=0.0001), \n",
    "        vmin=0,\n",
    "        cmap=plotstyle.cmap('a'), aspect='auto',\n",
    "        extent=EXTENT\n",
    "    )\n",
    "    ax.set_ylabel('$y$ [px]')\n",
    "    ax.set_xlabel('$\\Delta x$ [px]')\n",
    "    ax.set_title(\"SLICE\")\n",
    "\n",
    "    ax.grid()\n",
    "\n",
    "\n",
    "\n",
    "    EXTENT = sl.SMEAR.to_extent()\n",
    "    EXTENT[0] -= sl.x0_px\n",
    "    EXTENT[1] -= sl.x0_px\n",
    "    EXTENT[0] *= calibration.px_to_lda()\n",
    "    EXTENT[1] *= calibration.px_to_lda()\n",
    "\n",
    "    ax = fig.add_subplot( axs[ i , 1: ] )\n",
    "    im = ax.imshow( \n",
    "        sl.SMEAR(sl.img_data_avg), \n",
    "        #norm=LogNorm(vmax=1, vmin=0.0001), \n",
    "        vmin=0,\n",
    "        cmap=plotstyle.cmap('a'), aspect='auto',\n",
    "        extent=EXTENT\n",
    "    )\n",
    "    ax.set(yticklabels=[])\n",
    "    ax.set_xlabel('$\\lambda_\\mathrm{corresp.}$ [nm]')\n",
    "    ax.set_title(\"SMEAR\")\n",
    "\n",
    "    ax.grid()\n",
    "\n",
    "    del EXTENT\n",
    "    i += 1\n",
    "del i\n",
    "    \n",
    "plt.tight_layout()\n",
    "plt.show()"
   ]
  },
  {
   "cell_type": "code",
   "execution_count": null,
   "id": "7b0b8524",
   "metadata": {},
   "outputs": [],
   "source": [
    "fig.savefig(\"Slice Stack.pdf\", bbox_inches='tight', dpi=100)\n",
    "#fig.savefig(\"Assembled TruColour Images (v4).png\", bbox_inches='tight', dpi=400)\n"
   ]
  },
  {
   "cell_type": "markdown",
   "id": "c48985f7",
   "metadata": {},
   "source": [
    "## Prepare Storage for combined Dataset"
   ]
  },
  {
   "cell_type": "code",
   "execution_count": null,
   "id": "b60b6bfa",
   "metadata": {},
   "outputs": [],
   "source": [
    "layers = shifts_um.shape[0]\n",
    "im_height = 1024\n",
    "shifts_px = np.round( um_to_px_offset*( shifts_um - np.min(shifts_um) ) ).astype(int)\n",
    "#shifts_px = np.round( um_to_px_offset*( -shifts_um + np.min(shifts_um) ) ).astype(int)\n",
    "#shifts_px = np.round( -um_to_px_offset*( shifts_um - np.max(shifts_um) ) ).astype(int)\n",
    "#shifts_px *= -1\n",
    "#shifts_px -= np.min(shifts_px)\n",
    "# required width of the image stack, with some margin\n",
    "im_width = np.max(shifts_px)-np.min(shifts_px)+5*np.max(np.diff(shifts_px))\n",
    "shifts_px += np.max(np.diff(shifts_px))\n",
    "#shifts_px -= np.max(np.diff(shifts_px))\n",
    "\n",
    "images = np.zeros( (layers, im_height, im_width) )\n"
   ]
  },
  {
   "cell_type": "code",
   "execution_count": null,
   "id": "28a3c195",
   "metadata": {},
   "outputs": [],
   "source": [
    "shifts_px = np.flipud(shifts_px) # TODO: do this properly, somehow through the offset factor"
   ]
  },
  {
   "cell_type": "code",
   "execution_count": null,
   "id": "580ae70c",
   "metadata": {},
   "outputs": [],
   "source": [
    "#images.shape\n",
    "shifts_px\n",
    "#im_width"
   ]
  },
  {
   "cell_type": "markdown",
   "id": "3e75cd35",
   "metadata": {},
   "source": [
    "## Assemble the proper 0th order image"
   ]
  },
  {
   "cell_type": "code",
   "execution_count": null,
   "id": "b7bd0e64",
   "metadata": {},
   "outputs": [],
   "source": [
    "peak_norm = np.max( np.array( [ sl.NORM_FAC for sl in slices ] ) )\n",
    "for sl in slices:\n",
    "    sl.renormalize(peak_norm)"
   ]
  },
  {
   "cell_type": "code",
   "execution_count": null,
   "id": "b86093ff",
   "metadata": {},
   "outputs": [],
   "source": [
    "#for i in range(layers):\n",
    "#    print(slices[i].img_data_avg[:,slices[i].SLICE.xslice()].shape, \" -> \", images[i,:,shifts_px[i]:shifts_px[i]+slices[i].SLICE.width()].shape )"
   ]
  },
  {
   "cell_type": "code",
   "execution_count": null,
   "id": "089f0de0",
   "metadata": {},
   "outputs": [],
   "source": [
    "for i in range(layers):\n",
    "    images[i,:,shifts_px[i]:shifts_px[i]+slices[i].SLICE.width()] = np.copy( slices[i].img_data_avg[:,slices[i].SLICE.xslice()] ) # normalization factor, have to keep track of inside SliceDataset"
   ]
  },
  {
   "cell_type": "code",
   "execution_count": null,
   "id": "71fee764",
   "metadata": {
    "scrolled": true
   },
   "outputs": [],
   "source": [
    "fig = plt.figure(figsize=(12,12), dpi=100)\n",
    "\n",
    "axs = fig.add_gridspec( 1, 10 )\n",
    "\n",
    "ax = fig.add_subplot( axs[ : , : ] )\n",
    "im = ax.imshow( \n",
    "    np.sum(images, axis=0), \n",
    "    #images[5], \n",
    "    #norm=LogNorm(vmax=1, vmin=0.0001), \n",
    "    vmin=0,\n",
    "    cmap=plotstyle.cmap('a'), #aspect='auto',\n",
    "    #extent=EXTENT\n",
    ")\n",
    "ax.set_ylabel('$y$ [px]')\n",
    "ax.set_xlabel('$x$ [px]')\n",
    "ax.set_title(\"Re-assembled Image\")\n",
    "\n",
    "ax.grid()\n",
    "    \n",
    "plt.tight_layout()\n",
    "plt.show()"
   ]
  },
  {
   "cell_type": "code",
   "execution_count": null,
   "id": "ccdfee02",
   "metadata": {},
   "outputs": [],
   "source": [
    "fig.savefig(\"Reassembled 0o Image.pdf\", bbox_inches='tight', dpi=100)\n"
   ]
  },
  {
   "cell_type": "markdown",
   "id": "167c831e",
   "metadata": {},
   "source": [
    "## Compute Spectra for each Image Point"
   ]
  },
  {
   "cell_type": "code",
   "execution_count": null,
   "id": "b7c2da53",
   "metadata": {},
   "outputs": [],
   "source": [
    "#for sl in slices:\n",
    "#    print(sl.SMEAR.width())\n",
    "#np.argmax( np.array( [sl.SMEAR.width() for sl in slices] ) )"
   ]
  },
  {
   "cell_type": "code",
   "execution_count": null,
   "id": "dec919c5",
   "metadata": {},
   "outputs": [],
   "source": [
    "# Index of the slice dataset whose minimum determined wavelength \n",
    "i_min_displace = np.argmin( np.array([ sl.SMEAR.xmin - sl.SLICE.xmid() for sl in slices]) )\n",
    "i_max_displace = np.argmax( np.array([ sl.SMEAR.xmax - sl.SLICE.xmid() for sl in slices]) ) \n",
    "# Could have gotten the same result with just the argmin & argmax of SMEAR.width(), but this kinda (maybe) makes it more clear what I'm trying to do...\n",
    "\n",
    "displace_min = int(slices[i_min_displace].SMEAR.xmin) - int(slices[i_min_displace].SLICE.xmid())\n",
    "displace_max = int(slices[i_max_displace].SMEAR.xmax) - int(slices[i_max_displace].SLICE.xmid())\n",
    "\n",
    "displacements = np.arange( displace_min, displace_max+1, 1 )\n",
    "\n",
    "( np.min(displacements), np.max(displacements) )\n",
    "\n",
    "#(i_min_displace, i_max_displace)\n",
    "\n",
    "#del i\n"
   ]
  },
  {
   "cell_type": "code",
   "execution_count": null,
   "id": "05391a44",
   "metadata": {},
   "outputs": [],
   "source": [
    "\n",
    "LDA = calibration.px_to_lda(displacements)\n",
    "( np.min(LDA), np.max(LDA) )\n"
   ]
  },
  {
   "cell_type": "code",
   "execution_count": null,
   "id": "173949fd",
   "metadata": {},
   "outputs": [],
   "source": [
    "LDA.shape"
   ]
  },
  {
   "cell_type": "code",
   "execution_count": null,
   "id": "d60c8e27",
   "metadata": {},
   "outputs": [],
   "source": [
    "y_binning = 16\n",
    "y_indices = np.arange(0,im_height,y_binning)\n",
    "binned_height = y_indices.shape[0]\n",
    "\n",
    "#binned_images = np.zeros( (layers, binned_height, im_width) )\n",
    "\n",
    "\n"
   ]
  },
  {
   "cell_type": "code",
   "execution_count": null,
   "id": "263fcbba",
   "metadata": {},
   "outputs": [],
   "source": [
    "spectra = np.zeros( (im_height, im_width, LDA.shape[0]) )\n",
    "\n",
    "for y in range(im_height):\n",
    "    for x in range(im_width):\n",
    "        layer_weights = np.copy( images[:,y,x] )\n",
    "        #print( np.nonzero(layer_weights) )\n",
    "        #if np.sum(layer_weights) != 0.0:\n",
    "        #    layer_weights /= np.sum(layer_weights)\n",
    "        for L in range(layer_weights.shape[0]):\n",
    "            #print(L)\n",
    "            #spec = np.zeros( spectra.shape[2] )\n",
    "            #start_idx = int(slices[L].SMEAR.xmin  ) - int(slices[L].SLICE.xmid())\n",
    "            #stop_idx  = int(slices[L].SMEAR.xmax+1) - int(slices[L].SLICE.xmid())\n",
    "            spectra[y,x,:] += layer_weights[L]*slices[L].img_data_avg[y, displace_min+int(slices[L].SLICE.xmid()):displace_max+int(slices[L].SLICE.xmid())+1]\n",
    "        if np.sum(spectra[y,x]) > 0:\n",
    "            spectra[y,x] /= np.sum( np.square(spectra[y,x]) )"
   ]
  },
  {
   "cell_type": "markdown",
   "id": "330e7fd9",
   "metadata": {},
   "source": [
    "## Generate (hopefully) true colour Image"
   ]
  },
  {
   "cell_type": "code",
   "execution_count": null,
   "id": "c0093672",
   "metadata": {},
   "outputs": [],
   "source": [
    "image_RGB = np.zeros( (im_height, im_width, 4) )\n",
    "\n",
    "for y in range(im_height):\n",
    "    for x in range(im_width):\n",
    "        #image_RGB[y,x] = np.sum(images[:,y,x])*cs.spec_to_rgb(LDA, spectra[y,x])\n",
    "        image_RGB[y,x,0:3] = cs.spec_to_rgb(LDA, spectra[y,x])\n",
    "\n",
    "image_RGB[:,:,3] += 1.0\n"
   ]
  },
  {
   "cell_type": "markdown",
   "id": "fad00758",
   "metadata": {},
   "source": [
    "This is to have the intensity kinda logarithmic, so that you can see more than just the peaking spot, but also clipped such that the background is ignored"
   ]
  },
  {
   "cell_type": "code",
   "execution_count": null,
   "id": "b08f6617",
   "metadata": {},
   "outputs": [],
   "source": [
    "alphamap = np.sum(images, axis=0)\n",
    "alphamap /= np.max(alphamap)\n",
    "alphamap = np.clip(alphamap, 0.0, 1.0)\n",
    "#alphamap = np.log10( 100*np.clip(alphamap, 0.01, 1.0) )/2\n",
    "image_RGB[:,:,3] = alphamap"
   ]
  },
  {
   "cell_type": "markdown",
   "id": "1bfb69ac",
   "metadata": {},
   "source": [
    "## Generate another one, with the Spectral Correction applied"
   ]
  },
  {
   "cell_type": "code",
   "execution_count": null,
   "id": "df7938c2",
   "metadata": {},
   "outputs": [],
   "source": [
    "#for y in range(im_height):\n",
    "#    for x in range(im_width):\n",
    "#        spectra[y,x] /= correction(LDA)"
   ]
  },
  {
   "cell_type": "code",
   "execution_count": null,
   "id": "4834c8ca",
   "metadata": {},
   "outputs": [],
   "source": [
    "corr_image_RGB = np.zeros( (im_height, im_width, 4) )\n",
    "\n",
    "for y in range(im_height):\n",
    "    for x in range(im_width):\n",
    "        #image_RGB[y,x] = np.sum(images[:,y,x])*cs.spec_to_rgb(LDA, spectra[y,x])\n",
    "        corr_image_RGB[y,x,0:3] = cs.spec_to_rgb(LDA, spectra[y,x]/correction(LDA))\n",
    "\n",
    "corr_image_RGB[:,:,3] += 1.0\n"
   ]
  },
  {
   "cell_type": "code",
   "execution_count": null,
   "id": "b4f28009",
   "metadata": {},
   "outputs": [],
   "source": [
    "alphamap = np.sum(images, axis=0)\n",
    "alphamap /= np.max(alphamap)\n",
    "alphamap = np.log10( 100*np.clip(alphamap, 0.01, 1.0) )/2\n",
    "corr_image_RGB[:,:,3] = alphamap"
   ]
  },
  {
   "cell_type": "markdown",
   "id": "5367646e",
   "metadata": {},
   "source": [
    "## Generate a third one, whitebalance it"
   ]
  },
  {
   "cell_type": "code",
   "execution_count": null,
   "id": "e0575652",
   "metadata": {},
   "outputs": [],
   "source": [
    "wb_image_RGB = np.zeros( (im_height, im_width, 4) )\n",
    "\n",
    "for y in range(im_height):\n",
    "    for x in range(im_width):\n",
    "        #image_RGB[y,x] = np.sum(images[:,y,x])*cs.spec_to_rgb(LDA, spectra[y,x])\n",
    "        wb_image_RGB[y,x,0:3] = cs.spec_to_rgb(LDA, spectra[y,x]/correction(LDA)*planck(LDA, 6000))\n",
    "\n",
    "wb_image_RGB[:,:,3] += 1.0\n"
   ]
  },
  {
   "cell_type": "code",
   "execution_count": null,
   "id": "812a0380",
   "metadata": {},
   "outputs": [],
   "source": [
    "alphamap = np.sum(images, axis=0)\n",
    "alphamap /= np.max(alphamap)\n",
    "alphamap = np.log10( 100*np.clip(alphamap, 0.01, 1.0) )/2\n",
    "wb_image_RGB[:,:,3] = alphamap"
   ]
  },
  {
   "cell_type": "code",
   "execution_count": null,
   "id": "4f393a23",
   "metadata": {},
   "outputs": [],
   "source": [
    "#wb_red_RGB = np.copy(wb_image_RGB)\n",
    "#wb_green_RGB = np.copy(wb_image_RGB)\n",
    "#wb_blue_RGB = np.copy(wb_image_RGB)\n",
    "\n",
    "#wb_red_RGB[:,:,1] *= 0.0\n",
    "#wb_red_RGB[:,:,2] *= 0.0\n",
    "#wb_green_RGB[:,:,0] *= 0.0\n",
    "#wb_green_RGB[:,:,2] *= 0.0\n",
    "#wb_blue_RGB[:,:,0] *= 0.0\n",
    "#wb_blue_RGB[:,:,1] *= 0.0\n"
   ]
  },
  {
   "cell_type": "markdown",
   "id": "ac3cec00",
   "metadata": {},
   "source": [
    "## Generate one with the brightness scaled with contrast"
   ]
  },
  {
   "cell_type": "code",
   "execution_count": null,
   "id": "cf85f05e",
   "metadata": {},
   "outputs": [],
   "source": [
    "contrast_image_RGB = np.zeros( (im_height, im_width, 4) )\n",
    "\n",
    "for y in range(im_height):\n",
    "    for x in range(im_width):\n",
    "        #image_RGB[y,x] = np.sum(images[:,y,x])*cs.spec_to_rgb(LDA, spectra[y,x])\n",
    "        contrast_image_RGB[y,x,0:3] = cs.spec_to_rgb(LDA, spectra[y,x]/correction(LDA)*planck(LDA, 6000))\n",
    "\n",
    "contrast_image_RGB[:,:,3] += 1.0\n"
   ]
  },
  {
   "cell_type": "markdown",
   "id": "a9b271e6",
   "metadata": {},
   "source": [
    "This should filter out everything that lies outside the main ROI and then scale the alpha (brightness) with the $\\mathcal{L}^2$-Norm of the difference of the spectrum at the image point and the correction (background) spectrum."
   ]
  },
  {
   "cell_type": "code",
   "execution_count": null,
   "id": "44f0a220",
   "metadata": {},
   "outputs": [],
   "source": [
    "alphamap = np.sum(images, axis=0)\n",
    "#alphamap /= np.max(alphamap)\n",
    "#alphamap = np.log10( 100*np.clip(alphamap, 0.01, 1.0) )/2\n",
    "alphamap = np.where( alphamap>0.01, 1.0, 0.0 )\n",
    "\n",
    "for y in range(im_height):\n",
    "    for x in range(im_width):\n",
    "        #if not np.any(np.isnan(spectra[y,x])):\n",
    "        if np.sum(spectra[y,x]) != 0:\n",
    "            alphamap[y,x] *= np.sum( np.square( spectra[y,x]/np.sum(spectra[y,x]) - correction(LDA)/np.sum(correction(LDA)) ) )\n",
    "        \n",
    "\n",
    "#contrast_image_RGB[:,:,3] /= np.max( contrast_image_RGB[:,:,3] )"
   ]
  },
  {
   "cell_type": "code",
   "execution_count": null,
   "id": "3e3b2dca",
   "metadata": {},
   "outputs": [],
   "source": [
    "#alphamap /= np.max(alphamap)\n",
    "#alphamap = np.log10(alphamap+0.01)"
   ]
  },
  {
   "cell_type": "code",
   "execution_count": null,
   "id": "18f19ac2",
   "metadata": {},
   "outputs": [],
   "source": [
    "contrast_image_RGB[:,:,3] = alphamap/np.max(alphamap)"
   ]
  },
  {
   "cell_type": "markdown",
   "id": "f847209c",
   "metadata": {},
   "source": [
    "## Plot"
   ]
  },
  {
   "cell_type": "code",
   "execution_count": null,
   "id": "7ff6dcc1",
   "metadata": {},
   "outputs": [],
   "source": [
    "fig = plt.figure(figsize=(12,12), dpi=100)\n",
    "\n",
    "axs = fig.add_gridspec( 2, 2 )\n",
    "\n",
    "\n",
    "ax = fig.add_subplot( axs[ 0 , 0 ] )\n",
    "ax.set_facecolor((0.0,0.0,0.0))\n",
    "im = ax.imshow( \n",
    "    image_RGB\n",
    "    #extent=EXTENT\n",
    ")\n",
    "ax.set_ylim( ymin=750, ymax=250 )\n",
    "ax.set_ylabel('$y$ [px]')\n",
    "ax.set_xlabel('$x$ [px]')\n",
    "ax.set_title(\"Assembled Image\\nReconstructed Colour\")\n",
    "\n",
    "#ax.grid()\n",
    "\n",
    "\n",
    "ax = fig.add_subplot( axs[ 0 , 1 ] )\n",
    "ax.set_facecolor((0.0,0.0,0.0))\n",
    "im = ax.imshow( \n",
    "    corr_image_RGB\n",
    "    #extent=EXTENT\n",
    ")\n",
    "ax.set_ylim( ymin=750, ymax=250 )\n",
    "ax.set_ylabel('$y$ [px]')\n",
    "ax.set_xlabel('$x$ [px]')\n",
    "ax.set_title(\"Assembled Image\\nSpectrally Corrected Colour, Logarithmic Brightness\")\n",
    "\n",
    "#ax.grid()\n",
    "\n",
    "\n",
    "ax = fig.add_subplot( axs[ 1 , 0 ] )\n",
    "ax.set_facecolor((0.0,0.0,0.0))\n",
    "im = ax.imshow( \n",
    "    wb_image_RGB\n",
    "    #extent=EXTENT\n",
    ")\n",
    "ax.set_ylim( ymin=750, ymax=250 )\n",
    "ax.set_ylabel('$y$ [px]')\n",
    "ax.set_xlabel('$x$ [px]')\n",
    "ax.set_title(\"Assembled Image\\nWhite Balanced @ 6000 K\")\n",
    "\n",
    "#ax.grid()\n",
    "\n",
    "\n",
    "ax = fig.add_subplot( axs[ 1 , 1 ] )\n",
    "ax.set_facecolor((0.0,0.0,0.0))\n",
    "im = ax.imshow( \n",
    "    contrast_image_RGB#[:,:,3]\n",
    "    #extent=EXTENT\n",
    ")\n",
    "ax.set_ylim( ymin=750, ymax=250 )\n",
    "ax.set_ylabel('$y$ [px]')\n",
    "ax.set_xlabel('$x$ [px]')\n",
    "ax.set_title(\"Assembled Image\\nSpectral Deviation Map\")\n",
    "\n",
    "#ax.grid()\n",
    "\n",
    "\n",
    "plt.tight_layout()\n",
    "plt.show()"
   ]
  },
  {
   "cell_type": "code",
   "execution_count": null,
   "id": "a5e9450e",
   "metadata": {},
   "outputs": [],
   "source": [
    "fig.savefig(\"Assembled TruColour Images (v4).pdf\", bbox_inches='tight', dpi=100)\n",
    "fig.savefig(\"Assembled TruColour Images (v4).png\", bbox_inches='tight', dpi=400)\n"
   ]
  },
  {
   "cell_type": "code",
   "execution_count": null,
   "id": "c9d1c50e",
   "metadata": {},
   "outputs": [],
   "source": []
  }
 ],
 "metadata": {
  "kernelspec": {
   "display_name": "Python 3 (ipykernel)",
   "language": "python",
   "name": "python3"
  },
  "language_info": {
   "codemirror_mode": {
    "name": "ipython",
    "version": 3
   },
   "file_extension": ".py",
   "mimetype": "text/x-python",
   "name": "python",
   "nbconvert_exporter": "python",
   "pygments_lexer": "ipython3",
   "version": "3.9.7"
  }
 },
 "nbformat": 4,
 "nbformat_minor": 5
}
