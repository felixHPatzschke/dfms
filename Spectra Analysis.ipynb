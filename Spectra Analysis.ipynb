{
 "cells": [
  {
   "cell_type": "markdown",
   "id": "3570a427",
   "metadata": {},
   "source": [
    "# Initial Input\n",
    "\n",
    "## Directory with the Object Locator Files"
   ]
  },
  {
   "cell_type": "code",
   "execution_count": null,
   "id": "da818278",
   "metadata": {},
   "outputs": [],
   "source": [
    "#DIRECTORY = \"/mnt/basestar/UNI/Masterarbeit/data/21-09-20/\"\n",
    "DIRECTORY = \"../../data/21-09-28-objects567/\"\n",
    "#DIRECTORY = \"../../data/reproduction/\"\n"
   ]
  },
  {
   "cell_type": "markdown",
   "id": "9f5d19fd",
   "metadata": {},
   "source": [
    "## Analysis Parameters"
   ]
  },
  {
   "cell_type": "code",
   "execution_count": null,
   "id": "d47427dd",
   "metadata": {},
   "outputs": [],
   "source": [
    "DENOIS_WEIGHT = 0\n",
    "DECONV_ITERATIONS = 0\n",
    "LDA_REF_OVERRIDE = 0\n",
    "\n",
    "LDA_MIN = 350\n",
    "LDA_MAX = 700\n",
    "\n",
    "OUTPUT_FORMATS = [ \"pdf\", \"png\" ]\n"
   ]
  },
  {
   "cell_type": "markdown",
   "id": "2a83b7d0",
   "metadata": {},
   "source": [
    "# Environment Setup\n",
    "\n",
    "## Basic Utilities"
   ]
  },
  {
   "cell_type": "code",
   "execution_count": null,
   "id": "bba6583f",
   "metadata": {},
   "outputs": [],
   "source": [
    "import sys\n",
    "import os"
   ]
  },
  {
   "cell_type": "markdown",
   "id": "b783a95d",
   "metadata": {},
   "source": [
    "## Maths"
   ]
  },
  {
   "cell_type": "code",
   "execution_count": null,
   "id": "f45ec903",
   "metadata": {},
   "outputs": [],
   "source": [
    "import numpy as np\n",
    "pi = np.pi"
   ]
  },
  {
   "cell_type": "markdown",
   "id": "7db473aa",
   "metadata": {},
   "source": [
    "## Plotting"
   ]
  },
  {
   "cell_type": "code",
   "execution_count": null,
   "id": "de7c4467",
   "metadata": {},
   "outputs": [],
   "source": [
    "import matplotlib.pyplot as plt\n",
    "%matplotlib inline\n",
    "\n",
    "import pickle\n",
    "import json\n",
    "\n",
    "from util import plotstyle, devices, objects, tdms, calibration_persistent_data_path\n",
    "from util.objects import Region\n"
   ]
  },
  {
   "cell_type": "code",
   "execution_count": null,
   "id": "b5597ef7",
   "metadata": {},
   "outputs": [],
   "source": [
    "plotstyle.load('print')"
   ]
  },
  {
   "cell_type": "markdown",
   "id": "09a8728a",
   "metadata": {},
   "source": [
    "# List known Devices, show Correction Spectra"
   ]
  },
  {
   "cell_type": "code",
   "execution_count": null,
   "id": "3c289b0d",
   "metadata": {},
   "outputs": [],
   "source": [
    "DEVS = devices.load_all()\n",
    "for did in DEVS:\n",
    "    print( \"  \" + did + \":\\t\" + DEVS[did].descr_str())"
   ]
  },
  {
   "cell_type": "code",
   "execution_count": null,
   "id": "c71e1b25",
   "metadata": {},
   "outputs": [],
   "source": [
    "fig = plt.figure(figsize=(10,7), dpi=100)\n",
    "\n",
    "axs = fig.add_gridspec(1, 1)\n",
    "\n",
    "ax = fig.add_subplot(axs[0, 0])\n",
    "\n",
    "for did in DEVS:\n",
    "    dev = DEVS[did]\n",
    "    LDA = np.linspace( np.maximum(dev.ldamin, LDA_MIN), \n",
    "                       np.minimum(dev.ldamax, LDA_MAX), \n",
    "                       400 )\n",
    "    spec, err = dev.evaluate(LDA)\n",
    "    ax.fill_between( LDA, spec-err, spec+err, alpha=plotstyle.err_alpha(), )#color=line[1] )\n",
    "    ax.plot( LDA, spec, lw=2, label=dev.descr_str() )#color=line[1] )\n",
    "    \n",
    "ax.set_title(\"Characteristic Spectra of the Optical Components\")\n",
    "ax.set_xlabel('$\\lambda$ [nm]')\n",
    "ax.set_ylabel('Relative Efficiency')\n",
    "\n",
    "ax.legend()\n",
    "\n",
    "ax.grid()\n",
    "\n",
    "plt.tight_layout()\n",
    "plt.show()"
   ]
  },
  {
   "cell_type": "markdown",
   "id": "21173b0c",
   "metadata": {},
   "source": [
    "# Read the Object Locator Files"
   ]
  },
  {
   "cell_type": "code",
   "execution_count": null,
   "id": "4019c28d",
   "metadata": {},
   "outputs": [],
   "source": [
    "object_files = [ \"{d}/{fn}\".format(d=DIRECTORY, fn=f) for f in os.listdir( DIRECTORY ) if f.endswith(\".json\") ]\n",
    "\n",
    "object_files"
   ]
  },
  {
   "cell_type": "code",
   "execution_count": null,
   "id": "5254a793",
   "metadata": {},
   "outputs": [],
   "source": [
    "object_descriptors = []\n",
    "\n",
    "for fn in object_files:\n",
    "    with open(fn, 'r') as file:\n",
    "        object_descriptors.append( objects.Descriptor().from_dict( json.loads(file.read()) ) )"
   ]
  },
  {
   "cell_type": "markdown",
   "id": "87d8f91b",
   "metadata": {},
   "source": [
    "## Load Video Data"
   ]
  },
  {
   "cell_type": "code",
   "execution_count": null,
   "id": "5c72d273",
   "metadata": {},
   "outputs": [],
   "source": [
    "OBJECTS = []\n",
    "for d,i in zip( object_descriptors, range(len(object_descriptors)) ):\n",
    "    OBJECTS.append( objects.Object() )\n",
    "    OBJECTS[-1].descriptor = d\n",
    "    OBJECTS[-1].video = tdms.VideoSeries().load( d.videos )\n",
    "    OBJECTS[-1].index = i\n",
    "    "
   ]
  },
  {
   "cell_type": "code",
   "execution_count": null,
   "id": "91c7cad6",
   "metadata": {},
   "outputs": [],
   "source": [
    "for o in OBJECTS:\n",
    "    print( \"{w}x{h} px,\\t{f} Frames\".format( w=o.video.width, h=o.video.height, f=o.video.frames ) )"
   ]
  },
  {
   "cell_type": "markdown",
   "id": "ada36a62",
   "metadata": {},
   "source": [
    "## Apply the Calibration"
   ]
  },
  {
   "cell_type": "code",
   "execution_count": null,
   "id": "a6fa8b79",
   "metadata": {},
   "outputs": [],
   "source": [
    "with open( \"{d}/calibration.pickle\".format( d=calibration_persistent_data_path ), 'rb' ) as importfile:\n",
    "    calibration = pickle.loads( importfile.read() )"
   ]
  },
  {
   "cell_type": "code",
   "execution_count": null,
   "id": "ef4a3899",
   "metadata": {},
   "outputs": [],
   "source": [
    "for o in OBJECTS:\n",
    "    o.descriptor.ldaref = 532.0\n",
    "    o.descriptor.sref = calibration['intercept'] + (-1.0)*o.descriptor.angle*calibration['slope']\n",
    "    # TODO: divide sref by binning\n",
    "    o.descriptor.sref /= o.video.binning\n",
    "    "
   ]
  },
  {
   "cell_type": "markdown",
   "id": "8610e3b4",
   "metadata": {},
   "source": [
    "# Setup Corrections"
   ]
  },
  {
   "cell_type": "code",
   "execution_count": null,
   "id": "f7274b46",
   "metadata": {},
   "outputs": [],
   "source": [
    "all_devices = devices.load_all()\n",
    "\n",
    "for o in OBJECTS:\n",
    "    for dev_id in o.descriptor.devices:\n",
    "        o.correction.add_device( all_devices[dev_id] )"
   ]
  },
  {
   "cell_type": "markdown",
   "id": "676ea527",
   "metadata": {},
   "source": [
    "# ROI"
   ]
  },
  {
   "cell_type": "code",
   "execution_count": null,
   "id": "933da994",
   "metadata": {},
   "outputs": [],
   "source": [
    "for o in OBJECTS:\n",
    "    print( \"\\r{a}/{b}\".format( a=o.index, b=len(OBJECTS) ), end='' )\n",
    "    o.gen_roi( LDA_MAX, 1 )\n",
    "    o.gen_streak_limit_idxs()\n",
    "print( \"\\rDone.\" )"
   ]
  },
  {
   "cell_type": "code",
   "execution_count": null,
   "id": "d24564e0",
   "metadata": {},
   "outputs": [],
   "source": [
    "#for o in OBJECTS:\n",
    "#    print( o.LDA[o.streak_begin_idx] )\n",
    "#    print( o.correction.ldamin )\n",
    "#    print( o.streak_begin_idx )"
   ]
  },
  {
   "cell_type": "code",
   "execution_count": null,
   "id": "ea4fbe1b",
   "metadata": {},
   "outputs": [],
   "source": [
    "for o in OBJECTS:\n",
    "    o.subtract_background()"
   ]
  },
  {
   "cell_type": "code",
   "execution_count": null,
   "id": "b5196695",
   "metadata": {},
   "outputs": [],
   "source": [
    "\n",
    "mcx = []\n",
    "mcy = []\n",
    "\n",
    "for o in OBJECTS:\n",
    "    zo = o.region( Region.SPOT )\n",
    "    zo = zo/np.sum(zo)\n",
    "    \n",
    "    x = np.arange( zo.shape[1] ) - (o.descriptor.roi_width-1)/2\n",
    "    y = np.arange( zo.shape[2] ) - (o.descriptor.roi_width-1)/2\n",
    "    \n",
    "    X, Y = np.meshgrid( x, y )\n",
    "    \n",
    "    #print( zo.shape )\n",
    "    #print( X.shape )\n",
    "    #print( Y.shape )\n",
    "    cx = np.zeros( zo.shape[0] )\n",
    "    cy = np.zeros( zo.shape[0] )\n",
    "    for F in range(zo.shape[0]):\n",
    "        cx[F] = np.sum( zo[F]*X )\n",
    "        cy[F] = np.sum( zo[F]*Y )\n",
    "        \n",
    "    mcx.append( np.sum(cx) )\n",
    "    mcy.append( np.sum(cy) )\n",
    "    "
   ]
  },
  {
   "cell_type": "code",
   "execution_count": null,
   "id": "c3955794",
   "metadata": {},
   "outputs": [],
   "source": [
    "fig = plt.figure(figsize=(10,2*len(OBJECTS)), dpi=100)\n",
    "\n",
    "axs = fig.add_gridspec(len(OBJECTS), 5)\n",
    "\n",
    "secxax = []\n",
    "\n",
    "for o in OBJECTS:\n",
    "    ax = fig.add_subplot(axs[ o.index , :1 ])\n",
    "    \n",
    "    ax.imshow(np.mean( o.region(Region.SPOT), axis=0 ), \n",
    "              extent=o.extent(Region.SPOT),\n",
    "              cmap=plotstyle.cmap('m'))\n",
    "    \n",
    "    ax.plot( [ mcx[o.index], mcx[o.index] ], [ o.extent(Region.SPOT)[2], o.extent(Region.SPOT)[3] ],\n",
    "             color=plotstyle.monochrome_fg(),\n",
    "             ls=':', lw=1)\n",
    "    ax.plot( [ o.extent(Region.SPOT)[0], o.extent(Region.SPOT)[1] ], [ mcy[o.index], mcy[o.index] ],\n",
    "             color=plotstyle.monochrome_fg(),\n",
    "             ls=':', lw=1)\n",
    "\n",
    "    ax.set_xlabel('x [px]')\n",
    "    ax.set_ylabel('y [px]')\n",
    "    #ax.set_title( o.descriptor.particle.descr_str() )\n",
    "    \n",
    "    \n",
    "\n",
    "    ax = fig.add_subplot(axs[ o.index , 1: ])\n",
    "    \n",
    "    ax.imshow(np.mean( o.region(Region.STREAK), axis=0 ), \n",
    "              extent=o.extent(Region.STREAK),\n",
    "              cmap=plotstyle.cmap('m'))\n",
    "    \n",
    "    #secxax = ax.secondary_xaxis(location='top', \n",
    "    #                                  functions=(lambda x: x*o.px_to_lda(), \n",
    "    #                                             lambda x: x*o.lda_to_px()))\n",
    "    #secxax.set_xlabel('$\\lambda_\\mathrm{corresp.}$ [nm]')\n",
    "    \n",
    "    # I can't get Secondary x Axes to work with transformations that differ between subplots.  \n",
    "    \n",
    "    ax.set_xlabel('x [px]')\n",
    "    ax.set_ylabel('y [px]')\n",
    "    ax.set_title( o.descriptor.particle.descr_str() )\n",
    "\n",
    "plt.tight_layout()\n",
    "plt.show()"
   ]
  },
  {
   "cell_type": "code",
   "execution_count": null,
   "id": "f90d76ca",
   "metadata": {},
   "outputs": [],
   "source": [
    "for fmt in OUTPUT_FORMATS:\n",
    "    fig.savefig(\"{d}/object-previews.{f}\".format(d=DIRECTORY, f=fmt), bbox_inches='tight', dpi=100)\n"
   ]
  },
  {
   "cell_type": "markdown",
   "id": "90b1bc51",
   "metadata": {},
   "source": [
    "# Line-wise extract/average Spectra"
   ]
  },
  {
   "cell_type": "code",
   "execution_count": null,
   "id": "e4841742",
   "metadata": {},
   "outputs": [],
   "source": [
    "LINE_WEIGHTS = [ np.empty_like( o.streak()[:,:,0] ) for o in OBJECTS ]\n",
    "\n",
    "for o in OBJECTS:\n",
    "    #print( LINE_WEIGHTS[o.index].shape )\n",
    "    for T in range(o.roi().shape[0]):\n",
    "        for Y in range(o.roi().shape[1]):\n",
    "            LINE_WEIGHTS[o.index][T,Y] = np.mean( o.streak()[T,Y,:] ) - np.min( o.streak()[T,Y,:] )\n"
   ]
  },
  {
   "cell_type": "code",
   "execution_count": null,
   "id": "ea096b10",
   "metadata": {},
   "outputs": [],
   "source": [
    "\n",
    "FRAME_SPECS = [ np.empty_like(o.streak()[:,0,:]) for o in OBJECTS ]\n",
    "\n",
    "for o in OBJECTS:\n",
    "    for T in range( FRAME_SPECS[o.index].shape[0] ):\n",
    "        FRAME_SPECS[o.index][T] = np.zeros( FRAME_SPECS[o.index][T].shape )\n",
    "        Y = np.argmax( LINE_WEIGHTS[o.index][T,:] )\n",
    "        FRAME_SPECS[o.index][T] += o.streak()[T,Y,:]\n",
    "        "
   ]
  },
  {
   "cell_type": "code",
   "execution_count": null,
   "id": "325145dd",
   "metadata": {},
   "outputs": [],
   "source": [
    "AVG_SPECS = [ np.empty_like(o.streak()[0,0,:]) for o in OBJECTS ]\n",
    "SPEC_ERRS = [ np.empty_like(o.streak()[0,0,:]) for o in OBJECTS ]\n",
    "\n",
    "for o in OBJECTS:\n",
    "    AVG_SPECS[o.index] = np.mean( FRAME_SPECS[o.index], axis=0 )\n",
    "    \n",
    "    SPEC_ERRS[o.index] = np.zeros( AVG_SPECS[o.index].shape )\n",
    "    for T in range( FRAME_SPECS[o.index].shape[0] ):\n",
    "        SPEC_ERRS[o.index] += np.square( FRAME_SPECS[o.index][T] - AVG_SPECS[o.index] )\n",
    "    SPEC_ERRS[o.index] /= FRAME_SPECS[o.index].shape[0]\n",
    "    SPEC_ERRS[o.index] = np.sqrt( SPEC_ERRS[o.index] )\n",
    "    "
   ]
  },
  {
   "cell_type": "code",
   "execution_count": null,
   "id": "ea1b1e00",
   "metadata": {},
   "outputs": [],
   "source": [
    "fig = plt.figure(figsize=(10,3*len(OBJECTS)), dpi=100)\n",
    "\n",
    "axs = fig.add_gridspec(len(OBJECTS),4)\n",
    "\n",
    "for o in OBJECTS:\n",
    "    ax = fig.add_subplot(axs[ o.index , :1 ])\n",
    "    \n",
    "    ax.imshow(np.mean( o.region(Region.SPOT), axis=0 ), \n",
    "              extent=o.extent(Region.SPOT),\n",
    "              cmap=plotstyle.cmap('m'))\n",
    "    \n",
    "    ax.plot( [ mcx[o.index], mcx[o.index] ], [ o.extent(Region.SPOT)[2], o.extent(Region.SPOT)[3] ],\n",
    "             color=plotstyle.monochrome_fg(),\n",
    "             ls=':', lw=1)\n",
    "    ax.plot( [ o.extent(Region.SPOT)[0], o.extent(Region.SPOT)[1] ], [ mcy[o.index], mcy[o.index] ],\n",
    "             color=plotstyle.monochrome_fg(),\n",
    "             ls=':', lw=1)\n",
    "\n",
    "    ax.set_xlabel('x [px]')\n",
    "    ax.set_ylabel('y [px]')\n",
    "    ax.set_title( o.descriptor.particle.descr_str() )\n",
    "    \n",
    "    \n",
    "    \n",
    "    ax = fig.add_subplot(axs[ o.index , 1: ])\n",
    "    \n",
    "    ax.fill_between( o.lda(Region.STREAK), \n",
    "                     AVG_SPECS[o.index] - SPEC_ERRS[o.index],\n",
    "                     AVG_SPECS[o.index] + SPEC_ERRS[o.index],\n",
    "                     color=plotstyle.monochrome_fg(),\n",
    "                     alpha=plotstyle.err_alpha() )\n",
    "    ax.plot( o.lda(Region.STREAK), \n",
    "             AVG_SPECS[o.index],\n",
    "             color=plotstyle.monochrome_fg(),\n",
    "             label=\"Measured Scattering Spectrum\" )\n",
    "    \n",
    "    #CORR_LDA = np.clip( o.lda(Region.STREAK), o.correction.ldamin, o.correction.ldamax )\n",
    "    CORR_LDA = o.lda(Region.STREAK)\n",
    "    corr = o.correction.evaluate( CORR_LDA )\n",
    "    ax.fill_between( CORR_LDA, \n",
    "                     corr[0] - corr[1],\n",
    "                     corr[0] + corr[1],\n",
    "                     alpha=plotstyle.err_alpha() )\n",
    "    ax.plot( CORR_LDA, \n",
    "             corr[0],\n",
    "             label=\"Setup Spectral Efficiency\" )\n",
    "    \n",
    "    \n",
    "    ax.legend()\n",
    "    \n",
    "    ax.set_xlabel('$\\lambda$ [nm]')\n",
    "    ax.set_ylabel('Relative Intensity')\n",
    "\n",
    "\n",
    "\n",
    "plt.tight_layout()\n",
    "plt.show()"
   ]
  },
  {
   "cell_type": "code",
   "execution_count": null,
   "id": "f88644df",
   "metadata": {},
   "outputs": [],
   "source": [
    "for fmt in OUTPUT_FORMATS:\n",
    "    fig.savefig(\"{d}/objects-vs-correction.{f}\".format(d=DIRECTORY, f=fmt), bbox_inches='tight', dpi=100)\n"
   ]
  },
  {
   "cell_type": "code",
   "execution_count": null,
   "id": "5e2a416f",
   "metadata": {},
   "outputs": [],
   "source": [
    "CORRECTED_SPECS = [ np.empty_like(o.streak()[0,0,:]) for o in OBJECTS ]\n",
    "CORRECTED_ERRS = [ np.empty_like(o.streak()[0,0,:]) for o in OBJECTS ]\n",
    "\n",
    "for o in OBJECTS:\n",
    "    LDA = o.lda( Region.STREAK )\n",
    "    CORR = o.correction.evaluate( LDA )\n",
    "    CORRECTED_SPECS[o.index] = AVG_SPECS[o.index] / CORR[0]\n",
    "\n",
    "    ERR = SPEC_ERRS[o.index] + AVG_SPECS[o.index]/CORR[0]*CORR[1]\n",
    "    CORRECTED_ERRS[o.index] = ERR / CORR[0]\n"
   ]
  },
  {
   "cell_type": "code",
   "execution_count": null,
   "id": "058feabc",
   "metadata": {},
   "outputs": [],
   "source": [
    "fig = plt.figure(figsize=(10,3*len(OBJECTS)), dpi=100)\n",
    "\n",
    "axs = fig.add_gridspec(len(OBJECTS),4)\n",
    "\n",
    "for o in OBJECTS:\n",
    "    ax = fig.add_subplot(axs[ o.index , :1 ])\n",
    "    \n",
    "    ax.imshow(np.mean( o.region(Region.SPOT), axis=0 ), \n",
    "              extent=o.extent(Region.SPOT),\n",
    "              cmap=plotstyle.cmap('m'))\n",
    "    \n",
    "    ax.plot( [ mcx[o.index], mcx[o.index] ], [ o.extent(Region.SPOT)[2], o.extent(Region.SPOT)[3] ],\n",
    "             color=plotstyle.monochrome_fg(),\n",
    "             ls=':', lw=1)\n",
    "    ax.plot( [ o.extent(Region.SPOT)[0], o.extent(Region.SPOT)[1] ], [ mcy[o.index], mcy[o.index] ],\n",
    "             color=plotstyle.monochrome_fg(),\n",
    "             ls=':', lw=1)\n",
    "\n",
    "    ax.set_xlabel('x [px]')\n",
    "    ax.set_ylabel('y [px]')\n",
    "    ax.set_title( o.descriptor.particle.descr_str() )\n",
    "    \n",
    "    \n",
    "    \n",
    "    ax = fig.add_subplot(axs[ o.index , 1: ])\n",
    "    \n",
    "    ax.fill_between( o.lda(Region.STREAK), \n",
    "                     CORRECTED_SPECS[o.index] - CORRECTED_ERRS[o.index],\n",
    "                     CORRECTED_SPECS[o.index] + CORRECTED_ERRS[o.index],\n",
    "                     color=plotstyle.monochrome_fg(),\n",
    "                     alpha=plotstyle.err_alpha() )\n",
    "    ax.plot( o.lda(Region.STREAK), \n",
    "             CORRECTED_SPECS[o.index],\n",
    "             color=plotstyle.monochrome_fg() )\n",
    "    \n",
    "    ax.set_ylim( bottom=0, top=np.max(CORRECTED_SPECS[o.index])*1.2 )\n",
    "    \n",
    "    ax.set_xlabel('$\\lambda$ [nm]')\n",
    "    ax.set_ylabel('Relative Intensity')\n",
    "\n",
    "\n",
    "\n",
    "plt.tight_layout()\n",
    "plt.show()"
   ]
  },
  {
   "cell_type": "code",
   "execution_count": null,
   "id": "0fc888ab",
   "metadata": {},
   "outputs": [],
   "source": [
    "for fmt in OUTPUT_FORMATS:\n",
    "    fig.savefig(\"{d}/objects-spectra.{f}\".format(d=DIRECTORY, f=fmt), bbox_inches='tight', dpi=100)"
   ]
  },
  {
   "cell_type": "code",
   "execution_count": null,
   "id": "dc8c50b8",
   "metadata": {},
   "outputs": [],
   "source": [
    "NORMS = [ np.sqrt( np.mean( np.square( AVG_SPECS[o.index] ) ) ) for o in OBJECTS ]\n",
    "NORMS"
   ]
  },
  {
   "cell_type": "code",
   "execution_count": null,
   "id": "717d6255",
   "metadata": {},
   "outputs": [],
   "source": [
    "lim_left = np.min( np.array([ o.correction.ldamin for o in OBJECTS ]) )\n",
    "#lim_right = np.max( np.array([ o.correction.ldamax for o in OBJECTS ]) )\n",
    "lim_right = np.max( np.array([ np.max( o.lda(Region.STREAK) ) for o in OBJECTS ]) )\n",
    "\n",
    "lim_upper = np.max( np.array([ np.max( CORRECTED_SPECS[o.index]/NORMS[o.index] ) for o in OBJECTS ]) )*1.15\n"
   ]
  },
  {
   "cell_type": "code",
   "execution_count": null,
   "id": "d9daddde",
   "metadata": {},
   "outputs": [],
   "source": [
    "fig = plt.figure(figsize=(10,7), dpi=100)\n",
    "\n",
    "axs = fig.add_gridspec(1,1)\n",
    "\n",
    "ax = fig.add_subplot(axs[ : , : ])\n",
    "\n",
    "for o in OBJECTS:\n",
    "    ax.fill_between( o.lda(Region.STREAK), \n",
    "                     (CORRECTED_SPECS[o.index] - CORRECTED_ERRS[o.index])/NORMS[o.index],\n",
    "                     (CORRECTED_SPECS[o.index] + CORRECTED_ERRS[o.index])/NORMS[o.index],\n",
    "                     #color=plotstyle.monochrome_fg(),\n",
    "                     alpha=plotstyle.err_alpha() )\n",
    "    ax.plot( o.lda(Region.STREAK), \n",
    "             CORRECTED_SPECS[o.index]/NORMS[o.index],\n",
    "             #color=plotstyle.monochrome_fg(),\n",
    "             label=o.descriptor.particle.descr_str() )\n",
    "    \n",
    "    \n",
    "ax.grid()\n",
    "\n",
    "ax.set_ylim( bottom=0, top=lim_upper )\n",
    "ax.set_xlim( left=lim_left, right=lim_right )\n",
    "\n",
    "ax.legend()\n",
    "ax.set_xlabel('$\\lambda$ [nm]')\n",
    "ax.set_ylabel('Relative Intensity')\n",
    "\n",
    "\n",
    "\n",
    "plt.tight_layout()\n",
    "plt.show()"
   ]
  },
  {
   "cell_type": "code",
   "execution_count": null,
   "id": "fa1532b5",
   "metadata": {},
   "outputs": [],
   "source": [
    "from util import mie_theory\n",
    "from scipy.interpolate import interp1d"
   ]
  },
  {
   "cell_type": "code",
   "execution_count": null,
   "id": "bac204b8",
   "metadata": {},
   "outputs": [],
   "source": [
    "read_lda, read_n, read_k = np.transpose(np.loadtxt('data/refractive-indices/Au_nk.txt', skiprows=1))\n",
    "n_Au = interp1d( read_lda*1e-6, read_n + 1j*read_k, kind=2 )"
   ]
  },
  {
   "cell_type": "code",
   "execution_count": null,
   "id": "0d9af50c",
   "metadata": {},
   "outputs": [],
   "source": [
    "TH_LDA = np.linspace( lim_left, lim_right, 100 )*1e-9\n",
    "#TH_SPEC_WATER = mie_theory.sigma_sca( TH_LDA, 20e-9, 1.33, n_Au, 100 )\n",
    "TH_SPEC_WATER = mie_theory.sigma_sca( TH_LDA, 20e-9, 1.45, n_Au, 100 ) # Immersion Oil, but who's counting?\n",
    "TH_SPEC_GLASS = mie_theory.sigma_sca( TH_LDA, 20e-9, 1.45, n_Au, 100 )\n",
    "TH_SPEC = 0.5*( TH_SPEC_WATER + TH_SPEC_GLASS )\n"
   ]
  },
  {
   "cell_type": "code",
   "execution_count": null,
   "id": "ed275607",
   "metadata": {},
   "outputs": [],
   "source": [
    "#TH_LDA *= 1e9\n",
    "#TH_SPEC *= 1e12 # µm²\n",
    "TH_NORM = np.sqrt( np.mean( np.square( TH_SPEC ) ) )\n",
    "TH_NORM /= 2.1"
   ]
  },
  {
   "cell_type": "code",
   "execution_count": null,
   "id": "6a7e3056",
   "metadata": {},
   "outputs": [],
   "source": [
    "fig = plt.figure(figsize=(10,7), dpi=100)\n",
    "\n",
    "axs = fig.add_gridspec(1,1)\n",
    "\n",
    "ax = fig.add_subplot(axs[ : , : ])\n",
    "\n",
    "for o in OBJECTS:\n",
    "    ax.fill_between( o.lda(Region.STREAK), \n",
    "                     (CORRECTED_SPECS[o.index] - CORRECTED_ERRS[o.index])/NORMS[o.index],\n",
    "                     (CORRECTED_SPECS[o.index] + CORRECTED_ERRS[o.index])/NORMS[o.index],\n",
    "                     #color=plotstyle.monochrome_fg(),\n",
    "                     alpha=plotstyle.err_alpha() )\n",
    "\n",
    "for o in OBJECTS:\n",
    "    ax.plot( o.lda(Region.STREAK), \n",
    "             CORRECTED_SPECS[o.index]/NORMS[o.index],\n",
    "             #color=plotstyle.monochrome_fg(),\n",
    "             label=o.descriptor.particle.descr_str() )\n",
    "\n",
    "\n",
    "ax.plot( TH_LDA*1e9, \n",
    "         TH_SPEC/TH_NORM,\n",
    "         ls=':',\n",
    "         color=plotstyle.monochrome_fg(),\n",
    "         label='Theory Curve (40 nm Au NP)')\n",
    "\n",
    "ax.grid()\n",
    "\n",
    "ax.set_ylim( bottom=0, top=lim_upper )\n",
    "ax.set_xlim( left=lim_left, right=lim_right )\n",
    "\n",
    "ax.legend()\n",
    "ax.set_xlabel('$\\lambda$ [nm]')\n",
    "ax.set_ylabel('Relative Intensity')\n",
    "\n",
    "\n",
    "\n",
    "plt.tight_layout()\n",
    "plt.show()"
   ]
  },
  {
   "cell_type": "code",
   "execution_count": null,
   "id": "7f93b496",
   "metadata": {},
   "outputs": [],
   "source": [
    "for fmt in OUTPUT_FORMATS:\n",
    "    fig.savefig(\"{d}/scattering-spectra-vs-theory.{f}\".format(d=DIRECTORY, f=fmt), bbox_inches='tight', dpi=100)\n"
   ]
  },
  {
   "cell_type": "code",
   "execution_count": null,
   "id": "523d6361",
   "metadata": {},
   "outputs": [],
   "source": []
  }
 ],
 "metadata": {
  "kernelspec": {
   "display_name": "Python 3 (ipykernel)",
   "language": "python",
   "name": "python3"
  },
  "language_info": {
   "codemirror_mode": {
    "name": "ipython",
    "version": 3
   },
   "file_extension": ".py",
   "mimetype": "text/x-python",
   "name": "python",
   "nbconvert_exporter": "python",
   "pygments_lexer": "ipython3",
   "version": "3.9.7"
  }
 },
 "nbformat": 4,
 "nbformat_minor": 5
}
