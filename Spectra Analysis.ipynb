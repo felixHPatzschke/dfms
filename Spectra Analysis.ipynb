{
 "cells": [
  {
   "cell_type": "markdown",
   "id": "3570a427",
   "metadata": {},
   "source": [
    "# Initial Input\n",
    "\n",
    "## Directory with the Object Locator Files"
   ]
  },
  {
   "cell_type": "code",
   "execution_count": null,
   "id": "da818278",
   "metadata": {},
   "outputs": [],
   "source": [
    "#DIRECTORY = \"/mnt/basestar/UNI/Masterarbeit/data/21-09-20/\"\n",
    "DIRECTORY = \"../../data/21-09-20/\"\n"
   ]
  },
  {
   "cell_type": "markdown",
   "id": "9f5d19fd",
   "metadata": {},
   "source": [
    "## Analysis Parameters"
   ]
  },
  {
   "cell_type": "code",
   "execution_count": null,
   "id": "d47427dd",
   "metadata": {},
   "outputs": [],
   "source": [
    "DENOIS_WEIGHT = 0\n",
    "DECONV_ITERATIONS = 0\n",
    "LDA_REF_OVERRIDE = 0\n",
    "\n",
    "LDA_MIN = 350\n",
    "LDA_MAX = 850\n"
   ]
  },
  {
   "cell_type": "markdown",
   "id": "2a83b7d0",
   "metadata": {},
   "source": [
    "# Environment Setup\n",
    "\n",
    "## Basic Utilities"
   ]
  },
  {
   "cell_type": "code",
   "execution_count": null,
   "id": "bba6583f",
   "metadata": {},
   "outputs": [],
   "source": [
    "import sys\n",
    "import os"
   ]
  },
  {
   "cell_type": "markdown",
   "id": "b783a95d",
   "metadata": {},
   "source": [
    "## Maths"
   ]
  },
  {
   "cell_type": "code",
   "execution_count": null,
   "id": "f45ec903",
   "metadata": {},
   "outputs": [],
   "source": [
    "import numpy as np\n",
    "pi = np.pi"
   ]
  },
  {
   "cell_type": "markdown",
   "id": "7db473aa",
   "metadata": {},
   "source": [
    "## Plotting"
   ]
  },
  {
   "cell_type": "code",
   "execution_count": null,
   "id": "de7c4467",
   "metadata": {},
   "outputs": [],
   "source": [
    "import matplotlib.pyplot as plt\n",
    "%matplotlib inline\n",
    "\n",
    "from util import plotstyle, devices, objects, tdms, calibration_persistent_data_path\n"
   ]
  },
  {
   "cell_type": "code",
   "execution_count": null,
   "id": "b5597ef7",
   "metadata": {},
   "outputs": [],
   "source": [
    "plotstyle.load('screen_dark')"
   ]
  },
  {
   "cell_type": "markdown",
   "id": "09a8728a",
   "metadata": {},
   "source": [
    "# List known Devices, show Correction Spectra"
   ]
  },
  {
   "cell_type": "code",
   "execution_count": null,
   "id": "3c289b0d",
   "metadata": {},
   "outputs": [],
   "source": [
    "DEVS = devices.load_all()\n",
    "for did in DEVS:\n",
    "    print(did + \":\\t\" + DEVS[did].descr_str())"
   ]
  },
  {
   "cell_type": "code",
   "execution_count": null,
   "id": "c71e1b25",
   "metadata": {},
   "outputs": [],
   "source": [
    "fig = plt.figure(figsize=(12,8), dpi=100)\n",
    "\n",
    "axs = fig.add_gridspec(1, 1)\n",
    "\n",
    "ax = fig.add_subplot(axs[0, 0])\n",
    "\n",
    "for did in DEVS:\n",
    "    dev = DEVS[did]\n",
    "    LDA = np.linspace( np.maximum(dev.ldamin, LDA_MIN), \n",
    "                       np.minimum(dev.ldamax, LDA_MAX), \n",
    "                       400 )\n",
    "    spec, err = dev.evaluate(LDA)\n",
    "    ax.fill_between( LDA, spec-err, spec+err, alpha=plotstyle.err_alpha(), )#color=line[1] )\n",
    "    ax.plot( LDA, spec, lw=2, label=dev.descr_str() )#color=line[1] )\n",
    "    \n",
    "ax.set_title(\"Characteristic Spectra of the Optical Components\")\n",
    "ax.set_xlabel('$\\lambda$ [nm]')\n",
    "ax.set_ylabel('Relative Efficiency')\n",
    "\n",
    "ax.legend()\n",
    "\n",
    "ax.grid()\n",
    "\n",
    "plt.tight_layout()\n",
    "plt.show()"
   ]
  },
  {
   "cell_type": "markdown",
   "id": "21173b0c",
   "metadata": {},
   "source": [
    "# Read the Object Locator Files"
   ]
  },
  {
   "cell_type": "code",
   "execution_count": null,
   "id": "4019c28d",
   "metadata": {},
   "outputs": [],
   "source": [
    "object_files = [ \"{d}/{fn}\".format(d=DIRECTORY, fn=f) for f in os.listdir( DIRECTORY ) if f.endswith(\".json\") ]\n",
    "\n",
    "object_files"
   ]
  },
  {
   "cell_type": "code",
   "execution_count": null,
   "id": "5254a793",
   "metadata": {},
   "outputs": [],
   "source": [
    "from util import objects\n",
    "import json\n",
    "\n",
    "object_descriptors = []\n",
    "\n",
    "for fn in object_files:\n",
    "    with open(fn, 'r') as file:\n",
    "        object_descriptors.append( objects.Descriptor().from_dict( json.loads(file.read()) ) )"
   ]
  },
  {
   "cell_type": "markdown",
   "id": "87d8f91b",
   "metadata": {},
   "source": [
    "## Load Video Data"
   ]
  },
  {
   "cell_type": "code",
   "execution_count": null,
   "id": "5c72d273",
   "metadata": {},
   "outputs": [],
   "source": [
    "OBJECTS = []\n",
    "for d in object_descriptors:\n",
    "    OBJECTS.append( objects.Object() )\n",
    "    OBJECTS[-1].descriptor = d\n",
    "    OBJECTS[-1].video = tdms.VideoSeries().load( d.videos )\n",
    "    "
   ]
  },
  {
   "cell_type": "code",
   "execution_count": null,
   "id": "91c7cad6",
   "metadata": {},
   "outputs": [],
   "source": [
    "for o in OBJECTS:\n",
    "    print( \"{w}x{h} px,\\t{f} Frames\".format( w=o.video.width, h=o.video.height, f=o.video.frames ) )"
   ]
  },
  {
   "cell_type": "markdown",
   "id": "ada36a62",
   "metadata": {},
   "source": [
    "## Apply the Calibration"
   ]
  },
  {
   "cell_type": "code",
   "execution_count": null,
   "id": "a6fa8b79",
   "metadata": {},
   "outputs": [],
   "source": [
    "import pickle\n",
    "\n",
    "with open( \"{d}/calibration.pickle\".format( d=calibration_persistent_data_path ), 'rb' ) as importfile:\n",
    "    calibration = pickle.loads( importfile.read() )"
   ]
  },
  {
   "cell_type": "code",
   "execution_count": null,
   "id": "ef4a3899",
   "metadata": {},
   "outputs": [],
   "source": [
    "for o in OBJECTS:\n",
    "    o.descriptor.ldaref = 532.0\n",
    "    o.descriptor.sref = calibration['intercept'] + (-1.0)*o.descriptor.angle*calibration['slope']\n",
    "    # TODO: divide sref by binning\n",
    "    o.descriptor.sref /= o.video.binning\n",
    "    "
   ]
  },
  {
   "cell_type": "markdown",
   "id": "676ea527",
   "metadata": {},
   "source": [
    "# ROI (Testing)"
   ]
  },
  {
   "cell_type": "code",
   "execution_count": null,
   "id": "66cab967",
   "metadata": {},
   "outputs": [],
   "source": [
    "#MAX_LDA = 900"
   ]
  },
  {
   "cell_type": "code",
   "execution_count": null,
   "id": "933da994",
   "metadata": {},
   "outputs": [],
   "source": [
    "for o in OBJECTS:\n",
    "    o.gen_roi( LDA_MAX, 1 )"
   ]
  },
  {
   "cell_type": "code",
   "execution_count": null,
   "id": "93a918d0",
   "metadata": {},
   "outputs": [],
   "source": [
    "fig = plt.figure(figsize=(12,2*len(OBJECTS)), dpi=100)\n",
    "\n",
    "axs = fig.add_gridspec(len(OBJECTS), 1)\n",
    "\n",
    "for i in range(len(OBJECTS)):\n",
    "    ax = fig.add_subplot(axs[ i , : ])\n",
    "\n",
    "    ax.imshow(np.mean( OBJECTS[i].roi(), axis=0 ), \n",
    "              extent=OBJECTS[i].roi_extent(),\n",
    "              cmap=plotstyle.cmap('m'))\n",
    "\n",
    "    secxax = ax.secondary_xaxis(location='top', \n",
    "                                functions=(lambda x: x*OBJECTS[i].descriptor.ldaref/OBJECTS[i].descriptor.sref, \n",
    "                                           lambda x: x*OBJECTS[i].descriptor.sref/OBJECTS[i].descriptor.ldaref))\n",
    "    secxax.set_xlabel('$\\lambda_\\mathrm{corresp.}$ [nm]')\n",
    "\n",
    "    ax.set_xlabel('x [px]')\n",
    "    ax.set_ylabel('y [px]')\n",
    "    ax.set_title( OBJECTS[i].descriptor.particle.descr_str() )\n",
    "\n",
    "plt.tight_layout()\n",
    "plt.show()"
   ]
  },
  {
   "cell_type": "code",
   "execution_count": null,
   "id": "2581b520",
   "metadata": {},
   "outputs": [],
   "source": [
    "#BG = []\n",
    "for o in OBJECTS:\n",
    "    o.subtract_background()"
   ]
  },
  {
   "cell_type": "code",
   "execution_count": null,
   "id": "07a05f32",
   "metadata": {},
   "outputs": [],
   "source": [
    "fig = plt.figure(figsize=(12,2*len(OBJECTS)), dpi=100)\n",
    "\n",
    "axs = fig.add_gridspec(len(OBJECTS), 1)\n",
    "\n",
    "for i in range(len(OBJECTS)):\n",
    "    ax = fig.add_subplot(axs[ i , : ])\n",
    "    \n",
    "    #imgmax = np.max( np.log( np.mean( OBJECTS[i].roi(), axis=0 ) ) )\n",
    "\n",
    "    ax.imshow(np.mean( OBJECTS[i].roi(), axis=0 ), \n",
    "              extent=OBJECTS[i].roi_extent(),\n",
    "              cmap=plotstyle.cmap('m'))\n",
    "\n",
    "    secxax = ax.secondary_xaxis(location='top', \n",
    "                                functions=(lambda x: x*OBJECTS[i].descriptor.ldaref/OBJECTS[i].descriptor.sref, \n",
    "                                           lambda x: x*OBJECTS[i].descriptor.sref/OBJECTS[i].descriptor.ldaref))\n",
    "    secxax.set_xlabel('$\\lambda_\\mathrm{corresp.}$ [nm]')\n",
    "\n",
    "    ax.set_xlabel('x [px]')\n",
    "    ax.set_ylabel('y [px]')\n",
    "    ax.set_title( OBJECTS[i].descriptor.particle.descr_str() )\n",
    "\n",
    "plt.tight_layout()\n",
    "plt.show()"
   ]
  },
  {
   "cell_type": "code",
   "execution_count": null,
   "id": "e36171e9",
   "metadata": {},
   "outputs": [],
   "source": []
  }
 ],
 "metadata": {
  "kernelspec": {
   "display_name": "Python 3 (ipykernel)",
   "language": "python",
   "name": "python3"
  },
  "language_info": {
   "codemirror_mode": {
    "name": "ipython",
    "version": 3
   },
   "file_extension": ".py",
   "mimetype": "text/x-python",
   "name": "python",
   "nbconvert_exporter": "python",
   "pygments_lexer": "ipython3",
   "version": "3.9.6"
  }
 },
 "nbformat": 4,
 "nbformat_minor": 5
}
