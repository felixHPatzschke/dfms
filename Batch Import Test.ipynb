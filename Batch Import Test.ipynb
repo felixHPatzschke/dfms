{
 "cells": [
  {
   "cell_type": "code",
   "execution_count": 1,
   "id": "9e89c5d8",
   "metadata": {},
   "outputs": [],
   "source": [
    "import util"
   ]
  },
  {
   "cell_type": "code",
   "execution_count": 2,
   "id": "7b52d43f",
   "metadata": {},
   "outputs": [],
   "source": [
    "path = \"data/TDMS/21-09-09/samples/sample_1/\"\n",
    "\n",
    "localnames = [\n",
    "    \"object_1_001_module.tdms\",\n",
    "    \"object_1_001_module.tdms_index\",\n",
    "    \"object_1_001_video.tdms\", # missing a non-critical file\n",
    "    \"object_1_002_module.tdms\",\n",
    "    \"object_1_002_module.tdms_index\",\n",
    "    \"object_1_002_video.tdms_index\", # missing metadata\n",
    "    \"object_1_003_module.tdms\",\n",
    "    \"object_1_003_video.tdms\",\n",
    "    \"object_1_003_video.tdms_index\", # missing a non-critical file\n",
    "    \"object_1_004_module.tdms_index\",\n",
    "    \"object_1_004_video.tdms\",\n",
    "    \"object_1_004_video.tdms_index\", # missing ROI data (can't be detected yet)\n",
    "    \"object_1_005_module.tdms\",\n",
    "    \"object_1_005_video.tdms\", # missing both non-critical files\n",
    "    \"object_1_006_module.tdms\",\n",
    "    \"object_1_006_module.tdms_index\",\n",
    "    \"object_1_006_video.tdms\",\n",
    "    \"object_1_006_roi.tdms\",\n",
    "    \"object_1_006_video.tdms_index\", # includes a malformed file name\n",
    "    \"object_1_007_module.tdms\",\n",
    "    \"object_1_008_video.tdms\", # out of order from here on\n",
    "    \"object_1_008_video.tdms_index\",\n",
    "    \"object_1_009_module.tdms\",\n",
    "    \"object_1_009_module.tdms_index\",\n",
    "    \"object_1_009_video.tdms\",\n",
    "    \"object_1_009_video.tdms_index\",\n",
    "    \"object_1_010_module.tdms\",\n",
    "    \"object_1_007_module.tdms_index\",\n",
    "    \"object_1_007_video.tdms\",\n",
    "    \"object_1_007_video.tdms_index\",\n",
    "    \"object_1_008_module.tdms\",\n",
    "    \"object_1_008_module.tdms_index\",\n",
    "    \"object_1_010_module.tdms_index\",\n",
    "    \"object_1_010_video.tdms\",\n",
    "    \"object_1_010_video.tdms_index\",\n",
    "]\n"
   ]
  },
  {
   "cell_type": "code",
   "execution_count": 3,
   "id": "d6dd07c6",
   "metadata": {},
   "outputs": [],
   "source": [
    "files = [ \"{p}{l}\".format( p=path, l=local ) for local in localnames ]\n",
    "#files"
   ]
  },
  {
   "cell_type": "code",
   "execution_count": 4,
   "id": "96de618c",
   "metadata": {},
   "outputs": [
    {
     "name": "stderr",
     "output_type": "stream",
     "text": [
      "/mnt/basestar/UNI/Masterarbeit/code/dfms/util/tdms.py:70: UserWarning: data/TDMS/21-09-09/samples/sample_1/object_1_006_roi.tdms is not a recognized format and will be ignored.\n",
      "  warnings.warn(\"{f} is not a recognized format and will be ignored.\".format(f=fn))\n",
      "/mnt/basestar/UNI/Masterarbeit/code/dfms/util/tdms.py:98: UserWarning: data/TDMS/21-09-09/samples/sample_1/object_1_002 is missing metadata and will be ignored.\n",
      "  warnings.warn(\"{b} is missing metadata and will be ignored.\".format(b=bn))\n"
     ]
    }
   ],
   "source": [
    "descriptors = util.tdms.files_to_descriptors(files)"
   ]
  },
  {
   "cell_type": "code",
   "execution_count": 5,
   "id": "150d3279",
   "metadata": {},
   "outputs": [],
   "source": [
    "dicts = [ d.to_dict() for d in descriptors ]"
   ]
  },
  {
   "cell_type": "code",
   "execution_count": 6,
   "id": "5e84e39c",
   "metadata": {},
   "outputs": [
    {
     "data": {
      "text/plain": [
       "[{'format': <Format.MODULE: 2>,\n",
       "  'data': 'data/TDMS/21-09-09/samples/sample_1/object_1_001_module.tdms',\n",
       "  'meta': 'data/TDMS/21-09-09/samples/sample_1/object_1_001_video.tdms'},\n",
       " {'format': <Format.MODULE: 2>,\n",
       "  'data': 'data/TDMS/21-09-09/samples/sample_1/object_1_003_module.tdms',\n",
       "  'meta': 'data/TDMS/21-09-09/samples/sample_1/object_1_003_video.tdms'},\n",
       " {'format': <Format.VIDEO: 1>,\n",
       "  'data': 'data/TDMS/21-09-09/samples/sample_1/object_1_004_video.tdms',\n",
       "  'meta': 'data/TDMS/21-09-09/samples/sample_1/object_1_004_video.tdms'},\n",
       " {'format': <Format.MODULE: 2>,\n",
       "  'data': 'data/TDMS/21-09-09/samples/sample_1/object_1_005_module.tdms',\n",
       "  'meta': 'data/TDMS/21-09-09/samples/sample_1/object_1_005_video.tdms'},\n",
       " {'format': <Format.MODULE: 2>,\n",
       "  'data': 'data/TDMS/21-09-09/samples/sample_1/object_1_006_module.tdms',\n",
       "  'meta': 'data/TDMS/21-09-09/samples/sample_1/object_1_006_video.tdms'},\n",
       " {'format': <Format.MODULE: 2>,\n",
       "  'data': 'data/TDMS/21-09-09/samples/sample_1/object_1_007_module.tdms',\n",
       "  'meta': 'data/TDMS/21-09-09/samples/sample_1/object_1_007_video.tdms'},\n",
       " {'format': <Format.MODULE: 2>,\n",
       "  'data': 'data/TDMS/21-09-09/samples/sample_1/object_1_008_module.tdms',\n",
       "  'meta': 'data/TDMS/21-09-09/samples/sample_1/object_1_008_video.tdms'},\n",
       " {'format': <Format.MODULE: 2>,\n",
       "  'data': 'data/TDMS/21-09-09/samples/sample_1/object_1_009_module.tdms',\n",
       "  'meta': 'data/TDMS/21-09-09/samples/sample_1/object_1_009_video.tdms'},\n",
       " {'format': <Format.MODULE: 2>,\n",
       "  'data': 'data/TDMS/21-09-09/samples/sample_1/object_1_010_module.tdms',\n",
       "  'meta': 'data/TDMS/21-09-09/samples/sample_1/object_1_010_video.tdms'}]"
      ]
     },
     "execution_count": 6,
     "metadata": {},
     "output_type": "execute_result"
    }
   ],
   "source": [
    "dicts"
   ]
  },
  {
   "cell_type": "code",
   "execution_count": null,
   "id": "0ac9aaf4",
   "metadata": {},
   "outputs": [],
   "source": []
  }
 ],
 "metadata": {
  "kernelspec": {
   "display_name": "Python 3 (ipykernel)",
   "language": "python",
   "name": "python3"
  },
  "language_info": {
   "codemirror_mode": {
    "name": "ipython",
    "version": 3
   },
   "file_extension": ".py",
   "mimetype": "text/x-python",
   "name": "python",
   "nbconvert_exporter": "python",
   "pygments_lexer": "ipython3",
   "version": "3.9.6"
  }
 },
 "nbformat": 4,
 "nbformat_minor": 5
}
