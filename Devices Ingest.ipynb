{
 "cells": [
  {
   "cell_type": "code",
   "execution_count": 1,
   "id": "b92bafbf",
   "metadata": {},
   "outputs": [],
   "source": [
    "import os"
   ]
  },
  {
   "cell_type": "code",
   "execution_count": 2,
   "id": "89a10234",
   "metadata": {},
   "outputs": [],
   "source": [
    "import util"
   ]
  },
  {
   "cell_type": "code",
   "execution_count": 3,
   "id": "2e23fcb9",
   "metadata": {},
   "outputs": [],
   "source": [
    "\n",
    "directory = \"data/devices/LED/\"\n",
    "dev = util.Device( vendor=\"Thorlabs\", name=\"SOLIS 3C\", function=\"LED\" )\n",
    "separator = ';'\n"
   ]
  },
  {
   "cell_type": "code",
   "execution_count": 4,
   "id": "46ec27e4",
   "metadata": {},
   "outputs": [],
   "source": [
    "filenames = os.listdir( directory )\n",
    "measured_spectra = [ util.SpectrometerDataSet().load(\"{d}/{f}\".format( d=directory, f=fn ), separator, normalize=True) for fn in filenames]\n",
    "\n",
    "dev.ingest_spectrometer_data( measured_spectra )\n",
    "\n",
    "util.devices.export(dev)\n"
   ]
  },
  {
   "cell_type": "code",
   "execution_count": 5,
   "id": "0a37cd7c",
   "metadata": {},
   "outputs": [],
   "source": [
    "\n",
    "directory = \"data/devices/Halogen Lamp/\"\n",
    "dev = util.Device( vendor=\"Olympus\", name=\"U-LH100L-3\", function=\"Halogen Lamp\" )\n",
    "separator = ','\n"
   ]
  },
  {
   "cell_type": "code",
   "execution_count": 6,
   "id": "ae591818",
   "metadata": {},
   "outputs": [],
   "source": [
    "filenames = os.listdir( directory )\n",
    "measured_spectra = [ util.SpectrometerDataSet().load(\"{d}/{f}\".format( d=directory, f=fn ), separator, normalize=True) for fn in filenames]\n",
    "\n",
    "dev.ingest_spectrometer_data( measured_spectra )\n",
    "\n",
    "util.devices.export(dev)\n"
   ]
  },
  {
   "cell_type": "code",
   "execution_count": 7,
   "id": "af261a4a",
   "metadata": {},
   "outputs": [],
   "source": [
    "\n",
    "directory = \"data/devices/OBJECTIVE-digitized-screenshot/\"\n",
    "dev = util.Device( vendor=\"Olympus\", name=\"UPlanApo x100\", function=\"Objective Lens\" )\n",
    "separator = ';'\n"
   ]
  },
  {
   "cell_type": "code",
   "execution_count": 8,
   "id": "b85c9920",
   "metadata": {},
   "outputs": [],
   "source": [
    "filenames = os.listdir( directory )\n",
    "measured_spectra = [ util.SpectrometerDataSet().load(\"{d}/{f}\".format( d=directory, f=fn ), separator, normalize=False) for fn in filenames]\n",
    "\n",
    "dev.ingest_spectrometer_data( measured_spectra )\n",
    "\n",
    "util.devices.export(dev)\n"
   ]
  },
  {
   "cell_type": "code",
   "execution_count": 9,
   "id": "2c40c2a6",
   "metadata": {},
   "outputs": [],
   "source": [
    "\n",
    "directory = \"data/devices/TUBELENS1-digitized-screenshot/\"\n",
    "dev = util.Device( vendor=\"Thorlabs\", name=\"AC254-250-A1-ML\", function=\"Tube Lens\" )\n",
    "separator = ';'\n"
   ]
  },
  {
   "cell_type": "code",
   "execution_count": 10,
   "id": "f2259fec",
   "metadata": {},
   "outputs": [],
   "source": [
    "filenames = os.listdir( directory )\n",
    "measured_spectra = [ util.SpectrometerDataSet().load(\"{d}/{f}\".format( d=directory, f=fn ), separator, normalize=False) for fn in filenames]\n",
    "\n",
    "dev.ingest_spectrometer_data( measured_spectra )\n",
    "\n",
    "util.devices.export(dev)\n"
   ]
  },
  {
   "cell_type": "code",
   "execution_count": 11,
   "id": "68726e7e",
   "metadata": {},
   "outputs": [],
   "source": [
    "\n",
    "directory = \"data/devices/GRATING-digitized-screenshot/\"\n",
    "dev = util.Device( vendor=\"Thorlabs\", name=\"GT25-03\", function=\"Diffraction Grating\" )\n",
    "separator = ';'\n"
   ]
  },
  {
   "cell_type": "code",
   "execution_count": 12,
   "id": "e7caf117",
   "metadata": {},
   "outputs": [],
   "source": [
    "filenames = os.listdir( directory )\n",
    "measured_spectra = [ util.SpectrometerDataSet().load(\"{d}/{f}\".format( d=directory, f=fn ), separator, normalize=False) for fn in filenames]\n",
    "\n",
    "dev.ingest_spectrometer_data( measured_spectra )\n",
    "\n",
    "util.devices.export(dev)\n"
   ]
  },
  {
   "cell_type": "code",
   "execution_count": 13,
   "id": "0f06d9db",
   "metadata": {},
   "outputs": [],
   "source": [
    "\n",
    "directory = \"data/devices/EMCCD1-digitized-screenshot/\"\n",
    "dev = util.Device( vendor=\"Andor\", name=\"iXon DV885-LC-VP\", function=\"EMCCD\" )\n",
    "separator = ';'\n"
   ]
  },
  {
   "cell_type": "code",
   "execution_count": 14,
   "id": "9745a85f",
   "metadata": {},
   "outputs": [],
   "source": [
    "filenames = os.listdir( directory )\n",
    "measured_spectra = [ util.SpectrometerDataSet().load(\"{d}/{f}\".format( d=directory, f=fn ), separator, normalize=False) for fn in filenames]\n",
    "\n",
    "dev.ingest_spectrometer_data( measured_spectra )\n",
    "\n",
    "util.devices.export(dev)\n"
   ]
  },
  {
   "cell_type": "code",
   "execution_count": null,
   "id": "9d7c61c7",
   "metadata": {},
   "outputs": [],
   "source": []
  }
 ],
 "metadata": {
  "kernelspec": {
   "display_name": "Python 3 (ipykernel)",
   "language": "python",
   "name": "python3"
  },
  "language_info": {
   "codemirror_mode": {
    "name": "ipython",
    "version": 3
   },
   "file_extension": ".py",
   "mimetype": "text/x-python",
   "name": "python",
   "nbconvert_exporter": "python",
   "pygments_lexer": "ipython3",
   "version": "3.9.6"
  }
 },
 "nbformat": 4,
 "nbformat_minor": 5
}
