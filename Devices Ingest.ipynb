{
 "cells": [
  {
   "cell_type": "code",
   "execution_count": 1,
   "id": "a9ba4608",
   "metadata": {},
   "outputs": [],
   "source": [
    "import os"
   ]
  },
  {
   "cell_type": "code",
   "execution_count": 2,
   "id": "b04eb694",
   "metadata": {},
   "outputs": [],
   "source": [
    "import util"
   ]
  },
  {
   "cell_type": "code",
   "execution_count": null,
   "id": "dfbf0498",
   "metadata": {},
   "outputs": [],
   "source": [
    "devinfos = [\n",
    "    [ \"LED\",                 \"Thorlabs\", \"SOLIS 3C\",        \"data/devices/LED/\",                            \";\" ],\n",
    "    [ \"Halogen Lamp\",        \"Olympus\",  \"U-LH100L-3\",      \"data/devices/Halogen Lamp/\",                   \",\" ],\n",
    "    [ \"Objective Lens\",      \"Olympus\",  \"UPlanApo x100\",   \"data/devices/OBJECTIVE-digitized-screenshot/\", \";\" ],\n",
    "    [ \"Tube Lens\",           \"Thorlabs\", \"AC254-250-A1-ML\", \"data/devices/TUBELENS1-digitized-screenshot/\", \";\" ],\n",
    "    [ \"Diffraction Grating\", \"Thorlabs\", \"GT25-03\",         \"data/devices/GRATING-digitized-screenshot/\",   \";\" ],\n",
    "    [ \"Objective Lens\", \"Olympus\",  \"UPlanApo x100\", \"data/devices/OBJECTIVE-digitized-screenshot/\", \";\" ],\n",
    "]\n",
    "# format is [ Function, Vendor, Part Nr., Directory, separator in data file ]\n",
    "\n",
    "normalize = [ True, True, False, False, False, False]"
   ]
  },
  {
   "cell_type": "code",
   "execution_count": null,
   "id": "e3e5ecd5",
   "metadata": {},
   "outputs": [],
   "source": [
    "for info,n in zip(devinfos,normalize):\n",
    "    dev = util.Device( function=info[0], vendor=info[1], name=info[2] )\n",
    "    directory = info[3]\n",
    "    separator = info[4]\n",
    "    \n",
    "    filenames = os.listdir( directory )\n",
    "    measured_spectra = [ util.SpectrometerDataSet().load(\"{d}/{f}\".format( d=directory, f=fn ), separator, normalize=n) for fn in filenames]\n",
    "\n",
    "    dev.ingest_spectrometer_data( measured_spectra )\n",
    "\n",
    "    util.devices.export(dev)"
   ]
  },
  {
   "cell_type": "code",
   "execution_count": 11,
   "id": "a781ab2e",
   "metadata": {},
   "outputs": [],
   "source": [
    "\n",
    "directory = \"data/devices/GRATING-digitized-screenshot/\"\n",
    "dev = util.Device( vendor=\"Thorlabs\", name=\"GT25-03\", function=\"Diffraction Grating\" )\n",
    "separator = ';'\n"
   ]
  },
  {
   "cell_type": "code",
   "execution_count": 12,
   "id": "d436b624",
   "metadata": {},
   "outputs": [],
   "source": [
    "filenames = os.listdir( directory )\n",
    "measured_spectra = [ util.SpectrometerDataSet().load(\"{d}/{f}\".format( d=directory, f=fn ), separator, normalize=False) for fn in filenames]\n",
    "\n",
    "dev.ingest_spectrometer_data( measured_spectra )\n",
    "\n",
    "util.devices.export(dev)\n"
   ]
  },
  {
   "cell_type": "code",
   "execution_count": 13,
   "id": "01a9a0e2",
   "metadata": {},
   "outputs": [],
   "source": [
    "\n",
    "directory = \"data/devices/EMCCD1-digitized-screenshot/\"\n",
    "dev = util.Device( vendor=\"Andor\", name=\"iXon DV885-LC-VP\", function=\"EMCCD\" )\n",
    "separator = ';'\n"
   ]
  },
  {
   "cell_type": "code",
   "execution_count": 14,
   "id": "d700ef90",
   "metadata": {},
   "outputs": [],
   "source": [
    "filenames = os.listdir( directory )\n",
    "measured_spectra = [ util.SpectrometerDataSet().load(\"{d}/{f}\".format( d=directory, f=fn ), separator, normalize=False) for fn in filenames]\n",
    "\n",
    "dev.ingest_spectrometer_data( measured_spectra )\n",
    "\n",
    "util.devices.export(dev)\n"
   ]
  },
  {
   "cell_type": "code",
   "execution_count": null,
   "id": "e5da3baf",
   "metadata": {},
   "outputs": [],
   "source": []
  }
 ],
 "metadata": {
  "kernelspec": {
   "display_name": "Python 3 (ipykernel)",
   "language": "python",
   "name": "python3"
  },
  "language_info": {
   "codemirror_mode": {
    "name": "ipython",
    "version": 3
   },
   "file_extension": ".py",
   "mimetype": "text/x-python",
   "name": "python",
   "nbconvert_exporter": "python",
   "pygments_lexer": "ipython3",
   "version": "3.9.6"
  }
 },
 "nbformat": 4,
 "nbformat_minor": 5
}
