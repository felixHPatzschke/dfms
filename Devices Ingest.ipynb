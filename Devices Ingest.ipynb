{
 "cells": [
  {
   "cell_type": "code",
   "execution_count": 1,
   "id": "ef8fe88e",
   "metadata": {},
   "outputs": [],
   "source": [
    "import os"
   ]
  },
  {
   "cell_type": "code",
   "execution_count": 2,
   "id": "7bd83ff5",
   "metadata": {},
   "outputs": [],
   "source": [
    "import util"
   ]
  },
  {
   "cell_type": "code",
   "execution_count": 3,
   "id": "5a5c3322",
   "metadata": {},
   "outputs": [],
   "source": [
    "devinfos = [\n",
    "    [ \"null\",            \"None\",                \"\",         \"Virtual Neutral Device\", \"data/devices/virt-neutral-dev/\",               \";\" ],\n",
    "    [ \"led-specscope1\",  \"LED\",                 \"Thorlabs\", \"SOLIS-3C\",               \"data/devices/LED/\",                            \";\" ],\n",
    "    [ \"halo-specscope1\", \"Halogen Lamp\",        \"Olympus\",  \"U-LH100L-3\",             \"data/devices/Halogen Lamp/\",                   \",\" ],\n",
    "    [ \"ol-manplt1\",      \"Objective Lens\",      \"Olympus\",  \"UPlanApo x100\",          \"data/devices/OBJECTIVE-digitized-screenshot/\", \";\" ],\n",
    "    [ \"tl-manplt1\",      \"Tube Lens\",           \"Thorlabs\", \"AC254-250-A1-ML\",        \"data/devices/TUBELENS1-digitized-screenshot/\", \";\" ],\n",
    "    [ \"grating-manplt1\", \"Diffraction Grating\", \"Thorlabs\", \"GT25-03\",                \"data/devices/GRATING-digitized-screenshot/\",   \";\" ],\n",
    "    [ \"emccd-manplt1\",   \"EMCCD\",               \"Andor\",    \"iXon DV885-LC-VP\",       \"data/devices/EMCCD1-digitized-screenshot/\",    \";\" ],\n",
    "]\n",
    "# format is [ Function, Vendor, Part Nr., Directory, separator in data file ]\n",
    "\n",
    "normalize = [ False, True, True, False, False, False, False]"
   ]
  },
  {
   "cell_type": "code",
   "execution_count": 4,
   "id": "a78903fa",
   "metadata": {},
   "outputs": [],
   "source": [
    "for info,n in zip(devinfos,normalize):\n",
    "    dev = util.Device( uid=info[0], function=info[1], vendor=info[2], name=info[3] )\n",
    "    directory = info[4]\n",
    "    separator = info[5]\n",
    "    \n",
    "    filenames = os.listdir( directory )\n",
    "    measured_spectra = [ util.SpectrometerDataSet().load(\"{d}/{f}\".format( d=directory, f=fn ), separator, normalize=n) for fn in filenames]\n",
    "\n",
    "    dev.ingest_spectrometer_data( measured_spectra )\n",
    "\n",
    "    util.devices.export(dev)"
   ]
  },
  {
   "cell_type": "code",
   "execution_count": null,
   "id": "5f8583f2",
   "metadata": {},
   "outputs": [],
   "source": []
  }
 ],
 "metadata": {
  "kernelspec": {
   "display_name": "Python 3 (ipykernel)",
   "language": "python",
   "name": "python3"
  },
  "language_info": {
   "codemirror_mode": {
    "name": "ipython",
    "version": 3
   },
   "file_extension": ".py",
   "mimetype": "text/x-python",
   "name": "python",
   "nbconvert_exporter": "python",
   "pygments_lexer": "ipython3",
   "version": "3.9.7"
  }
 },
 "nbformat": 4,
 "nbformat_minor": 5
}
